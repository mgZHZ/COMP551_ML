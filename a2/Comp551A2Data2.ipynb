{
  "nbformat": 4,
  "nbformat_minor": 0,
  "metadata": {
    "colab": {
      "name": "Comp551A2Data2.ipynb",
      "provenance": [],
      "collapsed_sections": []
    },
    "kernelspec": {
      "name": "python3",
      "display_name": "Python 3"
    },
    "language_info": {
      "name": "python"
    }
  },
  "cells": [
    {
      "cell_type": "markdown",
      "source": [
        "#Import data - Sentiment140 dataset"
      ],
      "metadata": {
        "id": "HDtMX_tcegPI"
      }
    },
    {
      "cell_type": "code",
      "execution_count": null,
      "metadata": {
        "colab": {
          "base_uri": "https://localhost:8080/"
        },
        "id": "R4wWlDf5ecl2",
        "outputId": "36232198-7685-4667-dc5b-0efa590b18d5"
      },
      "outputs": [
        {
          "output_type": "stream",
          "name": "stdout",
          "text": [
            "--2022-03-06 20:27:41--  http://cs.stanford.edu/people/alecmgo/trainingandtestdata.zip\n",
            "Resolving cs.stanford.edu (cs.stanford.edu)... 171.64.64.64\n",
            "Connecting to cs.stanford.edu (cs.stanford.edu)|171.64.64.64|:80... connected.\n",
            "HTTP request sent, awaiting response... 301 Moved Permanently\n",
            "Location: https://cs.stanford.edu/people/alecmgo/trainingandtestdata.zip [following]\n",
            "--2022-03-06 20:27:42--  https://cs.stanford.edu/people/alecmgo/trainingandtestdata.zip\n",
            "Connecting to cs.stanford.edu (cs.stanford.edu)|171.64.64.64|:443... connected.\n",
            "HTTP request sent, awaiting response... 200 OK\n",
            "Length: 81363704 (78M) [application/zip]\n",
            "Saving to: ‘data/trainingandtestdata.zip’\n",
            "\n",
            "trainingandtestdata 100%[===================>]  77.59M  32.7MB/s    in 2.4s    \n",
            "\n",
            "2022-03-06 20:27:44 (32.7 MB/s) - ‘data/trainingandtestdata.zip’ saved [81363704/81363704]\n",
            "\n",
            "Archive:  data/trainingandtestdata.zip\n",
            "  inflating: data/testdata.manual.2009.06.14.csv  \n",
            "  inflating: data/training.1600000.processed.noemoticon.csv  \n"
          ]
        }
      ],
      "source": [
        "# loading the train & test csv file from link in pdf\n",
        "!mkdir -p data\n",
        "!wget -nc http://cs.stanford.edu/people/alecmgo/trainingandtestdata.zip -P data\n",
        "!unzip -n -d data data/trainingandtestdata.zip\n"
      ]
    },
    {
      "cell_type": "markdown",
      "source": [
        "#Data preprocess"
      ],
      "metadata": {
        "id": "OeCyKZxUewTQ"
      }
    },
    {
      "cell_type": "code",
      "source": [
        "import pandas as pd\n",
        "import re\n",
        "import numpy as np\n",
        "import matplotlib.pyplot as plt\n",
        "from sklearn.feature_extraction.text import TfidfVectorizer\n",
        "from sklearn.feature_extraction.text import CountVectorizer\n",
        "import scipy\n",
        "from scipy.special import factorial\n",
        "from scipy.sparse import vstack\n",
        "import math\n",
        "from sklearn.linear_model import LogisticRegression\n",
        "from warnings import filterwarnings\n",
        "\n",
        "def data_process():\n",
        "    #dataframe of training set\n",
        "    df_train = pd.read_csv(\"data/training.1600000.processed.noemoticon.csv\", names=['polarity', 'id', 'date', 'query', 'user', 'text'], encoding='latin-1')\n",
        "    df_train = df_train[['polarity', 'text']]\n",
        "    #dataframe of testing set\n",
        "    df_test = pd.read_csv(\"data/testdata.manual.2009.06.14.csv\", names=['polarity', 'id', 'date', 'query', 'user', 'text'])\n",
        "    df_test = df_test.loc[df_test.polarity!=2].reset_index()\n",
        "    df_test = df_test[['polarity', 'text']]\n",
        "    #delete links and numbers in text\n",
        "    df_train['text']=df_train['text'].apply(lambda x: re.sub('http://\\S+|https://\\S+|@\\S+|[0-9]\\S+','', str(x)))\n",
        "    df_test['text']=df_test['text'].apply(lambda x: re.sub('http://\\S+|https://\\S+|@\\S+|[0-9]\\S+','', str(x)))\n",
        "    #delete special characters from text\n",
        "    df_train['text']=df_train['text'].apply(lambda x: re.sub('[^A-Za-z]+',' ', str(x)))\n",
        "    df_test['text']=df_test['text'].apply(lambda x: re.sub('[^A-Za-z]+',' ', str(x)))\n",
        "    #remove duplicate rows\n",
        "    df_train.drop_duplicates(\"text\", inplace=True)\n",
        "    df_test.drop_duplicates(\"text\", inplace=True)\n",
        "    #modify the column polarity with binary value\n",
        "    df_train.polarity = df_train.polarity.replace({0: 0, 4: 1})\n",
        "    df_test.polarity = df_test.polarity.replace({0: 0, 4: 1})\n",
        "\n",
        "    return df_train, df_test\n"
      ],
      "metadata": {
        "id": "R-hMnObaem9v"
      },
      "execution_count": null,
      "outputs": []
    },
    {
      "cell_type": "markdown",
      "source": [
        "# CLass Distribution"
      ],
      "metadata": {
        "id": "LhIPE56WfJm-"
      }
    },
    {
      "cell_type": "code",
      "source": [
        "#generate a bar graph to show the class distribution of the dataset#1\n",
        "def plot_class_distribution(df_train, df_test):\n",
        "    polarity, number1 = np.unique(df_train.polarity, return_counts=True)\n",
        "    target, number2 = np.unique(df_test.polarity, return_counts=True)\n",
        "\n",
        "    index = ['Negative', 'Positive']\n",
        "    df = pd.DataFrame({'train': [number1[0],number1[1]],'test': [number2[0],number2[1]]}, index=index)\n",
        "    ax = df.plot.bar(rot=0,subplots=True,title=\"The plot of class distribution in Sentiment140 dataset\",layout=(1,2),legend=False)\n"
      ],
      "metadata": {
        "id": "YQFWKt-OBg9l"
      },
      "execution_count": null,
      "outputs": []
    },
    {
      "cell_type": "markdown",
      "source": [
        "# Set up continuous features (tfidf) for Gaussian Naive Bayes"
      ],
      "metadata": {
        "id": "USQn1tHGodP4"
      }
    },
    {
      "cell_type": "code",
      "source": [
        "#turn the text data of training/test set (exclude stop words) into numerical features (computing word tfidf)\n",
        "df_train, df_test = data_process()\n",
        "count_vect = TfidfVectorizer(stop_words='english',max_df=0.5,min_df=5,max_features=1000)\n",
        "train_feature_count = count_vect.fit_transform(df_train.text)\n",
        "test_feature_count = count_vect.transform(df_test.text)\n",
        "#check dictionary of words with frequency\n",
        "print(count_vect.vocabulary_)"
      ],
      "metadata": {
        "id": "bib1dml6fHCV"
      },
      "execution_count": null,
      "outputs": []
    },
    {
      "cell_type": "markdown",
      "source": [
        "# Set up \"count\" features for Multinomial Naive Bayes"
      ],
      "metadata": {
        "id": "T9gviVR8oz2Y"
      }
    },
    {
      "cell_type": "code",
      "source": [
        "#turn the text data of training/test set (exclude stop words) into numerical features (counting word frequency)\n",
        "count_vect1 = CountVectorizer(stop_words='english',max_df=0.5,min_df=5,max_features=1000)\n",
        "train_feature_count1 = count_vect1.fit_transform(df_train.text)\n",
        "test_feature_count1 = count_vect1.transform(df_test.text)"
      ],
      "metadata": {
        "id": "cakWByIaFyQZ"
      },
      "execution_count": null,
      "outputs": []
    },
    {
      "cell_type": "markdown",
      "source": [
        "# Gaussian and Multinomial Naive Bayes Implementation"
      ],
      "metadata": {
        "id": "BcV7fYgm9BHZ"
      }
    },
    {
      "cell_type": "code",
      "source": [
        "def gaussian(self, xt):\n",
        "    Nt, D = xt.shape\n",
        "    log_prior = np.log(self.pi)[:, None]\n",
        "    threshold=+1e-20\n",
        "    log_likelihood = -.5 * np.log(2*np.pi) - np.log(self.sigma[:,None,:]+threshold) -.5 * (((xt[None,:,:] - self.mu[:,None,:])/(self.sigma[:,None,:]+threshold))**2)\n",
        "    # now we sum over the feature dimension to get a C x N matrix (this has the log-likelihood for each class-test point combination)\n",
        "    log_likelihood = np.sum(log_likelihood, axis=2)\n",
        "    # posterior calculation\n",
        "    log_posterior = log_prior + log_likelihood\n",
        "    posterior = np.exp(log_posterior - logsumexp(log_posterior))\n",
        "    return log_posterior.T\n",
        "\n",
        "def multinomial(self, xt):\n",
        "    log_posteriors = np.zeros((xt.shape[0],2))\n",
        "    for i in range(xt.shape[0]):\n",
        "        log_posteriors[i,:]=(((self.likelihood)*(xt[i,:].T)).sum(axis=1)).T+(self.prior).T\n",
        "    return log_posteriors\n",
        "\n",
        "class NaiveBayes:\n",
        "    \n",
        "    def __init__(self, NB_fn=multinomial):\n",
        "        self.NB_fn = NB_fn\n",
        "        return\n",
        "    \n",
        "    def fit(self, x, y, alpha=0.5):\n",
        "        #N: number of instance, D:number of feature\n",
        "        N, D = x.shape\n",
        "        #C: number of class\n",
        "        C = np.max(y) + 1\n",
        "        #one parameter for each feature conditioned on each class\n",
        "        mu, sigma = np.zeros((C,D)), np.zeros((C,D))\n",
        "        prior = np.zeros(C)\n",
        "        likelihood = np.zeros((C, D))\n",
        "        Nc = np.zeros(C)\n",
        "        # for each class get the MLE for the mean and std\n",
        "        for c in range(C):\n",
        "            #slice all the elements from class c\n",
        "            x_c = x[y == c] \n",
        "            #get number of elements of class c\n",
        "            Nc[c] = x_c.shape[0]\n",
        "            #prepare the prior and likelihood basedon the input training set\n",
        "            prior[c]=np.log(Nc[c]/ N)\n",
        "            likelihood[c, :] = np.log((x_c.sum(axis=0) + alpha)/(x_c.sum(axis=1).sum(axis=0)+alpha*D))\n",
        "            #mean of features of class c\n",
        "            mu[c,:]=x_c.mean(axis=0)\n",
        "            #std of features of class c\n",
        "            x_c_temp = x_c.copy()\n",
        "            x_c_temp.data **= 2\n",
        "            variance=x_c_temp.mean(axis=0) - np.square(mu[c,:])\n",
        "            sigma[c,:] = np.sqrt(variance)\n",
        "\n",
        "        self.alpha=alpha    \n",
        "        self.C=C\n",
        "        self.prior = prior\n",
        "        self.likelihood = likelihood\n",
        "        self.mu = mu                                  \n",
        "        self.sigma = sigma     \n",
        "        #Laplace smoothing (using alpha_c=1 for all c)                        \n",
        "        self.pi = (Nc+1)/(N+C)\n",
        "        return self\n",
        "\n",
        "def logsumexp(Z):                                                \n",
        "    Zmax = np.max(Z,axis=0)[None,:]\n",
        "    log_sum_exp = Zmax + np.log(np.sum(np.exp(Z - Zmax), axis=0))\n",
        "    return log_sum_exp\n",
        "\n",
        "def predict(self, xt):\n",
        "    posterior = self.NB_fn(self, xt)\n",
        "    return posterior                                              \n",
        "\n",
        "NaiveBayes.predict = predict\n",
        "\n",
        "#function to evaluate the accuracy of the model\n",
        "def evaluate_acc(y_test, y_predict):\n",
        "    accuracy = np.sum(y_predict == y_test)/y_predict.shape[0]\n",
        "    return accuracy\n",
        "\n",
        "#function takes the training data as input and splits it into k folds \n",
        "#where 1 fold for validation set and k-1 folds for training set \n",
        "def cross_validation_split(x_train_origin, y_train_origin, k_folds=5):\n",
        "    index = np.arange(np.shape(x_train_origin)[0])\n",
        "    np.random.shuffle(index)\n",
        "    x_train_origin, y_train_origin = x_train_origin[index], y_train_origin[index]\n",
        "    val_x=[]\n",
        "    val_y=[]\n",
        "    train_x=[]\n",
        "    train_y=[]\n",
        "    for i in range(k_folds):\n",
        "        \n",
        "        fold_len=x_train_origin.shape[0]//k_folds\n",
        "        val_x.append(x_train_origin[i*fold_len:fold_len*(i+1)])\n",
        "        train_x1 = x_train_origin[0*fold_len:i*fold_len]\n",
        "        train_x2 = x_train_origin[fold_len*(i+1):]\n",
        "        train_x.append(vstack([train_x1, train_x2]))\n",
        "        split_y = np.array_split(y_train_origin, k_folds)\n",
        "        val_y.append(split_y.pop(i))\n",
        "        train_y.append(np.concatenate(split_y))  \n",
        "    return val_x, val_y, train_x, train_y\n",
        "\n",
        "#function takes train/validation sets generated above and a given model as input\n",
        "#iterate through each train/validation set and returns the average result of each fold\n",
        "def kfoldCV(x_valid, y_valid, x_train, y_train, model, alpha=0.05):\n",
        "    accuracy_list=[]\n",
        "    for s in range(len(x_valid)):\n",
        "        model.fit(x_train[s], y_train[s], alpha)\n",
        "        y_prob = model.predict(scipy.sparse.csr_matrix.toarray(x_valid[s]))\n",
        "        y_pred = np.argmax(y_prob, 1)\n",
        "        accuracy_list.append(evaluate_acc(y_valid[s], y_pred))\n",
        "    acc = sum(accuracy_list)/len(accuracy_list)\n",
        "    print(accuracy_list)\n",
        "    print(f'test accuracy: {acc}')\n",
        "    return acc\n",
        "\n",
        "\n"
      ],
      "metadata": {
        "id": "d4r4NGrfkDvN"
      },
      "execution_count": null,
      "outputs": []
    },
    {
      "cell_type": "code",
      "source": [
        "#set up the simple logistic model based on whole training set and test the model by test set to get the initial accuracy \n",
        "filterwarnings('ignore') # ignor the convergence warning\n",
        "#logistice model for count features\n",
        "clf = LogisticRegression(random_state=0).fit(train_feature_count, df_train.polarity.to_numpy())\n",
        "y_prob = clf.predict(scipy.sparse.csr_matrix.toarray(test_feature_count))\n",
        "acc = evaluate_acc(df_test.polarity, y_prob)\n",
        "print(f'test accuracy: {acc}')\n",
        "#logistice model for continous features\n",
        "clf=LogisticRegression(random_state=0).fit(train_feature_count1, df_train.polarity.to_numpy())\n",
        "y_prob = clf.predict(scipy.sparse.csr_matrix.toarray(test_feature_count1))\n",
        "acc = evaluate_acc(df_test.polarity, y_prob)\n",
        "print(f'test accuracy: {acc}')"
      ],
      "metadata": {
        "colab": {
          "base_uri": "https://localhost:8080/"
        },
        "id": "py75jfZu8Py9",
        "outputId": "6bdcb206-7853-4252-cbaa-248440868180"
      },
      "execution_count": null,
      "outputs": [
        {
          "output_type": "stream",
          "name": "stdout",
          "text": [
            "test accuracy: 0.7827298050139275\n",
            "test accuracy: 0.7771587743732591\n"
          ]
        }
      ]
    },
    {
      "cell_type": "markdown",
      "source": [
        "#cross-validation for hyperparameter of Naive Bayes"
      ],
      "metadata": {
        "id": "VGgQX5SHy0HY"
      }
    },
    {
      "cell_type": "code",
      "source": [
        "import matplotlib.pyplot as plt\n",
        "from sklearn.feature_extraction.text import TfidfVectorizer\n",
        "from sklearn.feature_extraction.text import CountVectorizer\n",
        "\n",
        "#find max_feature that will result in the best performance\n",
        "#compare the overall performance for multinomial and guassian Naive Bayes\n",
        "def cv_max_feature(df_train):\n",
        "    #randomly select 100000 instances as the training set to avoiding the memory problem\n",
        "    df_train1=df_train.sample(n=100000,ignore_index=True)\n",
        "    model1 = NaiveBayes(NB_fn=multinomial)\n",
        "    max_feature1=[]\n",
        "    accuracy1=[]\n",
        "    for i in range(1000,15000,2000):\n",
        "        print(i)\n",
        "        max_feature1.append(i)\n",
        "        count_vect = CountVectorizer(stop_words='english', min_df=1,max_features=i)\n",
        "        train_feature_count = count_vect.fit_transform(df_train1.text)\n",
        "        x_valid1, y_valid1, x_train1, y_train1 = cross_validation_split(train_feature_count, df_train1.polarity, 5)\n",
        "        accuracy1.append(kfoldCV(x_valid1, y_valid1, x_train1, y_train1, model1))\n",
        "\n",
        "    model = NaiveBayes(NB_fn=gaussian)\n",
        "    max_feature=[]\n",
        "    accuracy=[]\n",
        "    for i in range(100,7000,500):\n",
        "        print(i)\n",
        "        max_feature.append(i)\n",
        "        tfidf_vect = TfidfVectorizer(stop_words='english', max_features=i)\n",
        "        train_feature_tfidf = tfidf_vect.fit_transform(df_train1.text)\n",
        "        x_valid, y_valid, x_train, y_train = cross_validation_split(train_feature_tfidf, df_train1.polarity, 5)\n",
        "        accuracy.append(kfoldCV(x_valid, y_valid, x_train, y_train, model))\n",
        "    #generate the line graph\n",
        "    plt.plot(max_feature1, accuracy1, label=\"Multinomial Naive Bayes\")\n",
        "    plt.errorbar(max_feature, accuracy, label=\"Gaussian Naive Bayes\")\n",
        "    plt.title('Plot of models with different # features in 5 fold cross-validation')\n",
        "    plt.xlabel('number of features')\n",
        "    plt.ylabel('accuracy')\n",
        "    plt.legend()\n",
        "    plt.show()\n",
        "\n",
        "#find max_df that will result in the best performance of the Naive Bayes model\n",
        "#compare the overall performance for multinomial and guassian Naive Bayes\n",
        "def cv_max_df(df_train):\n",
        "    #randomly select 100000 instances as the training set to avoiding the memory problem\n",
        "    df_train1=df_train.sample(n=100000,ignore_index=True)\n",
        "    model = NaiveBayes(NB_fn=multinomial)\n",
        "    max_df=[]\n",
        "    accuracy_multinomial=[]\n",
        "    # max_df = 0.1 means ignore the words occur in more than 10% of the documents\n",
        "    for i in range(1,10,2):\n",
        "        i = i/10\n",
        "        print(i)\n",
        "        max_df.append(i)\n",
        "        count_vect1 = CountVectorizer(stop_words='english', max_features=6000, max_df=i)\n",
        "        train_feature_count1 = count_vect1.fit_transform(df_train1.text)\n",
        "        test_feature_count1 = count_vect1.transform(df_train1.text)\n",
        "        x_valid, y_valid, x_train, y_train = cross_validation_split(train_feature_count1, df_train1.polarity, 5)\n",
        "        accuracy_multinomial.append(kfoldCV(x_valid, y_valid, x_train, y_train, model))\n",
        "\n",
        "    accuracy_gaussian=[]\n",
        "    model1 = NaiveBayes(NB_fn=gaussian)\n",
        "    for i in range(1,10,2):\n",
        "        i = i/10\n",
        "        print(i)\n",
        "        tfidf_vect = TfidfVectorizer(stop_words='english', max_features=6000, max_df=i)\n",
        "        train_feature_tfidf = tfidf_vect.fit_transform(df_train1.text)\n",
        "        test_feature_tfidf = tfidf_vect.transform(df_train1.text)\n",
        "        x_valid, y_valid, x_train, y_train = cross_validation_split(train_feature_tfidf,  df_train1.polarity, 5)\n",
        "        accuracy_gaussian.append(kfoldCV(x_valid, y_valid, x_train, y_train, model1)) # 1 indicate using Gaussian NB\n",
        "\n",
        "    #generate the line graph\n",
        "    plt.plot(max_df, accuracy_multinomial, label=\"Multinomial Naive Bayes\")\n",
        "    plt.plot(max_df, accuracy_gaussian, label=\"Gaussian Naive Bayes\")\n",
        "    plt.title('Plot of models with different max_df in 5 fold cross-validation')\n",
        "    plt.xlabel('max_df')\n",
        "    plt.ylabel('accuracy')\n",
        "    #plt.xticks(range(0,30,2))\n",
        "    plt.legend()\n",
        "    plt.show()\n",
        "\n",
        "#find min_df that will result in the best performance of the Naive Bayes model\n",
        "def cv_min_df(df_train):\n",
        "    model = NaiveBayes(NB_fn=multinomial)\n",
        "    min_df=[]\n",
        "    accuracy=[]\n",
        "    #randomly select 100000 instances as the training set to avoiding the memory problem\n",
        "    df_train1=df_train.sample(n=100000,ignore_index=True)\n",
        "    for i in range(0,20,2):\n",
        "        print(i)\n",
        "        min_df.append(i)\n",
        "        count_vect1 = CountVectorizer(stop_words='english',min_df=i,max_features=6000)\n",
        "        train_feature_count1 = count_vect1.fit_transform(df_train1.text)\n",
        "        x_valid, y_valid, x_train, y_train = cross_validation_split(train_feature_count1, df_train1.polarity, 5)\n",
        "        accuracy.append(kfoldCV(x_valid, y_valid, x_train, y_train, model))\n",
        "\n",
        "    accuracy_gaussian=[]\n",
        "    model1 = NaiveBayes(NB_fn=gaussian)\n",
        "    for i in range(0,20,2):\n",
        "        print(i)\n",
        "        tfidf_vect = TfidfVectorizer(stop_words='english', max_features=6000, min_df=i)\n",
        "        train_feature_tfidf = tfidf_vect.fit_transform(df_train1.text)\n",
        "        test_feature_tfidf = tfidf_vect.transform(df_train1.text)\n",
        "        x_valid, y_valid, x_train, y_train = cross_validation_split(train_feature_tfidf,  df_train1.polarity, 5)\n",
        "        accuracy_gaussian.append(kfoldCV(x_valid, y_valid, x_train, y_train, model1)) # 1 indicate using Gaussian NB\n",
        "\n",
        "    #generate the line graph\n",
        "    plt.plot(min_df, accuracy, label=\"Multinomial Naive Bayes\")\n",
        "    plt.plot(min_df, accuracy_gaussian, label=\"Gaussian Naive Bayes\")\n",
        "    plt.title('Plot of models with different min_df in 5 fold cross-validation')\n",
        "    plt.xlabel('min_df')\n",
        "    plt.ylabel('accuracy')\n",
        "    plt.legend()\n",
        "    plt.show()\n",
        "\n",
        "#find the best hyperparameter alpha that will result in the best performance of the multinomial Naive Bayes model\n",
        "def cv_alpha(df_train):\n",
        "    model = NaiveBayes(NB_fn=multinomial)\n",
        "    alpha=[0.01,0.02,0.03,0.04,0.05,0.06,0.07,0.08,0.09,0.1,0.15,0.2,0.25,0.3,0.35,0.4,0.45,0.5]\n",
        "    accuracy=[]\n",
        "    #randomly select 100000 instances as the training set to avoiding the memory problem\n",
        "    df_train1=df_train.sample(n=100000,ignore_index=True)\n",
        "    for i in alpha:\n",
        "        print(i)\n",
        "        count_vect1 = CountVectorizer(stop_words='english',max_features=6000)\n",
        "        train_feature_count1 = count_vect1.fit_transform(df_train1.text)\n",
        "        x_valid, y_valid, x_train, y_train = cross_validation_split(train_feature_count1, df_train1.polarity, 5)\n",
        "        accuracy.append(kfoldCV(x_valid, y_valid, x_train, y_train, model,i))\n",
        "\n",
        "    #generate the line graph\n",
        "    plt.plot(alpha, accuracy, label=\"Multinomial Naive Bayes\")\n",
        "    plt.title('Plot of models with different alpha in 5 fold cross-validation')\n",
        "    plt.xlabel('alpha')\n",
        "    plt.ylabel('accuracy')\n",
        "    plt.legend()\n",
        "    plt.show()"
      ],
      "metadata": {
        "id": "DY5PHWKTyzYj"
      },
      "execution_count": null,
      "outputs": []
    },
    {
      "cell_type": "markdown",
      "source": [
        "#cross-validation for hyperparameter of Softmax Regression"
      ],
      "metadata": {
        "id": "lYmfDaWcqLY5"
      }
    },
    {
      "cell_type": "code",
      "source": [
        "def cv_max_iter(df_train):\n",
        "    #randomly select 100000 instances as the training set to avoiding the memory problem\n",
        "    df_train1=df_train.sample(n=100000,ignore_index=True)\n",
        "    count_vect1 = CountVectorizer(stop_words='english',max_features=6000)\n",
        "    train_feature_count = count_vect1.fit_transform(df_train1.text)\n",
        "    filterwarnings('ignore')\n",
        "    iteration=[]\n",
        "    accuracy=[]\n",
        "    for i in range(0,50,2):\n",
        "        print(i)\n",
        "        iteration.append(i)\n",
        "        a=[]\n",
        "        x_valid1, y_valid1, x_train1, y_train1 = cross_validation_split(train_feature_count, df_train1.polarity, 5)\n",
        "        for s in range(len(x_valid1)):\n",
        "            clf = LogisticRegression(max_iter=i).fit(x_train1[s], y_train1[s])\n",
        "            y_prob = clf.predict(scipy.sparse.csr_matrix.toarray(x_valid1[s]))\n",
        "            acc = evaluate_acc(y_valid1[s], y_prob)\n",
        "            a.append(acc)\n",
        "        print(sum(a)/len(a))\n",
        "        accuracy.append(sum(a)/len(a))\n",
        "\n",
        "    plt.plot(iteration, accuracy, label=\"Logistic Regression\")\n",
        "    plt.title('Plot of softmax models with different max iterations in 5 fold cross-validation')\n",
        "    plt.xlabel('number of iterations')\n",
        "    plt.ylabel('accuracy')\n",
        "    plt.xticks(range(0,50,2))\n",
        "    plt.legend()\n",
        "    plt.show()\n",
        "    \n",
        "def cv_C(df_train):\n",
        "    #randomly select 100000 instances as the training set to avoiding the memory problem\n",
        "    df_train1=df_train.sample(n=100000,ignore_index=True)\n",
        "    count_vect1 = CountVectorizer(stop_words='english',max_features=6000)\n",
        "    train_feature_count = count_vect1.fit_transform(df_train1.text)\n",
        "    filterwarnings('ignore')\n",
        "    c=[]\n",
        "    accuracy=[]\n",
        "    for i in range(1,100,5):\n",
        "        print(i/100)\n",
        "        c.append(i/100)\n",
        "        a=[]\n",
        "        x_valid1, y_valid1, x_train1, y_train1 = cross_validation_split(train_feature_count, df_train1.polarity, 5)\n",
        "        for s in range(len(x_valid1)):\n",
        "            clf = LogisticRegression(max_iter=20,C=i/100).fit(x_train1[s], y_train1[s])\n",
        "            y_prob = clf.predict(scipy.sparse.csr_matrix.toarray(x_valid1[s]))\n",
        "            acc = evaluate_acc(y_valid1[s], y_prob)\n",
        "            a.append(acc)\n",
        "        print(sum(a)/len(a))\n",
        "        accuracy.append(sum(a)/len(a))\n",
        "\n",
        "    plt.plot(c, accuracy, label=\"Logistic Regression\")\n",
        "    plt.title('Plot of softmax models with different C in 5 fold cross-validation')\n",
        "    plt.xlabel('C - Inverse of regularization strength')\n",
        "    plt.ylabel('accuracy')\n",
        "    #plt.xticks(range(0,1,0.1))\n",
        "    plt.legend()\n",
        "    plt.show()\n",
        "\n",
        "def cv_penalty(df_train):\n",
        "    #randomly select 100000 instances as the training set to avoiding the memory problem\n",
        "    df_train1=df_train.sample(n=100000,ignore_index=True)\n",
        "    count_vect1 = CountVectorizer(stop_words='english',max_features=6000)\n",
        "    train_feature_count = count_vect1.fit_transform(df_train1.text)\n",
        "    filterwarnings('ignore')\n",
        "    penalty=['none','l2']\n",
        "    accuracy=[]\n",
        "    for i in penalty:\n",
        "        print(f'the norm of the penalty: {i}')\n",
        "        a=[]\n",
        "        x_valid1, y_valid1, x_train1, y_train1 = cross_validation_split(train_feature_count, df_train1.polarity, 5)\n",
        "        for s in range(len(x_valid1)):\n",
        "            clf = LogisticRegression(max_iter=20,C=0.21,penalty=i).fit(x_train1[s], y_train1[s])\n",
        "            y_prob = clf.predict(scipy.sparse.csr_matrix.toarray(x_valid1[s]))\n",
        "            acc = evaluate_acc(y_valid1[s], y_prob)\n",
        "            a.append(acc)\n",
        "        accuracy=sum(a)/len(a)\n",
        "        print(f'test accuracy: {accuracy}')\n",
        "    "
      ],
      "metadata": {
        "id": "jfw_5mD2qRf1"
      },
      "execution_count": null,
      "outputs": []
    },
    {
      "cell_type": "markdown",
      "source": [
        "# Compare performance of naive Bayes and softmax regression"
      ],
      "metadata": {
        "id": "Kkxz3WENrDAW"
      }
    },
    {
      "cell_type": "code",
      "source": [
        "filterwarnings('ignore')\n",
        "def cv_NB_SR():\n",
        "    accuracy1=[]\n",
        "    accuracy=[]\n",
        "    num_feature=[]\n",
        "    #randomly select 100000 instances as the training set to avoiding the memory problem\n",
        "    df_train1=df_train.sample(n=100000,ignore_index=True)\n",
        "    model1 = NaiveBayes(NB_fn=multinomial)\n",
        "    for i in range(1000,29000,1000):\n",
        "        print(i)\n",
        "        num_feature.append(i)\n",
        "        count_vect = CountVectorizer(stop_words='english',max_features=i)\n",
        "        train_feature_count = count_vect.fit_transform(df_train1.text)\n",
        "        x_valid1, y_valid1, x_train1, y_train1 = cross_validation_split(train_feature_count, df_train1.polarity, 5)\n",
        "        a1=kfoldCV(x_valid1, y_valid1, x_train1, y_train1, model1, alpha=0.06)\n",
        "        accuracy1.append(a1)\n",
        "        print(f'The test accuracy for multinomial Naive Bayes with best hyperparameter is: {a1}')\n",
        "\n",
        "        a=[]\n",
        "        for s in range(len(x_valid1)):\n",
        "            clf = LogisticRegression().fit(x_train1[s], y_train1[s])\n",
        "            y_prob = clf.predict(scipy.sparse.csr_matrix.toarray(x_valid1[s]))\n",
        "            acc = evaluate_acc(y_valid1[s], y_prob)\n",
        "            a.append(acc)\n",
        "        accuracy.append(sum(a)/len(a))\n",
        "        print(f'The test accuracy for Softmax Regression with best hyperparameter is: {sum(a)/len(a)}')\n",
        "    plt.plot(num_feature, accuracy1, label=\"Multinomial Naive Bayes\")\n",
        "    plt.errorbar(num_feature, accuracy, label=\"Softmax Regression\")\n",
        "    plt.title('Plot of models with different number of features in 5 fold cross-validation')\n",
        "    plt.xlabel('number of features')\n",
        "    plt.ylabel('accuracy')\n",
        "    plt.legend()\n",
        "    plt.show()"
      ],
      "metadata": {
        "id": "5HTWBOvqrCJq"
      },
      "execution_count": null,
      "outputs": []
    },
    {
      "cell_type": "markdown",
      "source": [
        "# Compare accuracy of the two models as a function of the size of dataset"
      ],
      "metadata": {
        "id": "oCG0AgXbtrnZ"
      }
    },
    {
      "cell_type": "code",
      "source": [
        "def cv_size_of_dataset():\n",
        "    percent=[]\n",
        "    accuracy1=[]\n",
        "    accuracy=[]\n",
        "\n",
        "    for i in range(2,10,2):\n",
        "        print(f'{i*10} % of the avaliable training set')\n",
        "        percent.append(i/10)\n",
        "        #randomly select 100000*percent instances as the training set( *100000 to avoiding the memory problem\n",
        "        df_train1=df_train.sample(n=int(100000*i/10),ignore_index=True)\n",
        "        model1 = NaiveBayes(NB_fn=multinomial)\n",
        "        count_vect = CountVectorizer(stop_words='english',max_features=6000)\n",
        "        train_feature_count = count_vect.fit_transform(df_train1.text)\n",
        "        x_valid1, y_valid1, x_train1, y_train1 = cross_validation_split(train_feature_count, df_train1.polarity, 5)\n",
        "        accuracy1.append(kfoldCV(x_valid1, y_valid1, x_train1, y_train1, model1, alpha=0.06))\n",
        "        #print(f'The test accuracy for multinomial Naive Bayes is: {accuracy1}')\n",
        "\n",
        "        a=[]\n",
        "        x_valid1, y_valid1, x_train1, y_train1 = cross_validation_split(train_feature_count, df_train1.polarity, 5)\n",
        "        for s in range(len(x_valid1)):\n",
        "            clf = LogisticRegression(max_iter=20,C=0.21,penalty='l2').fit(x_train1[s], y_train1[s])\n",
        "            y_prob = clf.predict(scipy.sparse.csr_matrix.toarray(x_valid1[s]))\n",
        "            acc = evaluate_acc(y_valid1[s], y_prob)\n",
        "            a.append(acc)\n",
        "        accuracy.append(sum(a)/len(a))\n",
        "        #print(f'The test accuracy for Softmax Regression with best hyperparameter is: {accuracy}')\n",
        "\n",
        "    plt.plot(percent, accuracy1, label=\"Multinomial Naive Bayes\")\n",
        "    plt.errorbar(percent, accuracy, label=\"Softmax Regression\")\n",
        "    plt.title('Plot of models with different percent of training data in 5 fold cross-validation')\n",
        "    plt.xlabel('percent of training data')\n",
        "    plt.ylabel('accuracy')\n",
        "    plt.legend()\n",
        "    plt.show()\n"
      ],
      "metadata": {
        "id": "qmkOBHVAtr_Y"
      },
      "execution_count": null,
      "outputs": []
    },
    {
      "cell_type": "markdown",
      "source": [
        "#Main Function"
      ],
      "metadata": {
        "id": "KCrKQIkio7JB"
      }
    },
    {
      "cell_type": "code",
      "source": [
        "def main():\n",
        "    df_train, df_test = data_process()\n",
        "    plot_class_distribution(df_train, df_test)\n",
        "    #model = NaiveBayes()\n",
        "\n",
        "    np.seterr(all = 'ignore') \n",
        "    \n",
        "    #cv_max_feature(df_train)\n",
        "    #cv_max_df(df_train)\n",
        "    #cv_min_df(df_train)\n",
        "    #cv_alpha(df_train)\n",
        "    #cv_max_iter(df_train)\n",
        "    #cv_C(df_train)\n",
        "    #cv_penalty(df_train)\n",
        "    #cv_NB_SR()\n",
        "    #cv_size_of_dataset()\n",
        "    \"\"\"\n",
        "    model = NaiveBayes()\n",
        "    for k in range(10,11):\n",
        "        x_valid, y_valid, x_train, y_train = cross_validation_split(train_feature_count, df_train.polarity, k)\n",
        "        kfoldCV(x_valid, y_valid, x_train, y_train, model)\n",
        "    \n",
        "    model.fit(train_feature_count1, df_train.polarity.to_numpy())\n",
        "    y_prob = model.predict(scipy.sparse.csr_matrix.toarray(test_feature_count1))\n",
        "\n",
        "    y_pred = np.argmax(y_prob, 1)\n",
        "    print(y_pred)\n",
        "    acc=evaluate_acc(df_test.polarity, y_pred)\n",
        "    \n",
        "    print(f'test accuracy: {acc}')\n",
        "    \"\"\"\n",
        "main()"
      ],
      "metadata": {
        "colab": {
          "base_uri": "https://localhost:8080/",
          "height": 294
        },
        "id": "C8WHSO9bo6mq",
        "outputId": "7eb04e70-e12b-4367-f07d-ea9b25f7e259"
      },
      "execution_count": null,
      "outputs": [
        {
          "output_type": "display_data",
          "data": {
            "image/png": "[encoded data removed]",
            "text/plain": [
              "<Figure size 432x288 with 2 Axes>"
            ]
          },
          "metadata": {
            "needs_background": "light"
          }
        }
      ]
    }
  ]
}