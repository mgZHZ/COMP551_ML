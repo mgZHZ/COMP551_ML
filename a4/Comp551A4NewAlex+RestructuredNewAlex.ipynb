{
  "nbformat": 4,
  "nbformat_minor": 0,
  "metadata": {
    "colab": {
      "name": "Comp551A4NewAlex+RestructuredNewAlex.ipynb",
      "provenance": [],
      "collapsed_sections": []
    },
    "kernelspec": {
      "name": "python3",
      "display_name": "Python 3"
    },
    "language_info": {
      "name": "python"
    },
    "accelerator": "GPU"
  },
  "cells": [
    {
      "cell_type": "markdown",
      "source": [
        "# import packages and libraries"
      ],
      "metadata": {
        "id": "oM4jidGXj04L"
      }
    },
    {
      "cell_type": "code",
      "execution_count": null,
      "metadata": {
        "id": "syzgkkdKs7vl"
      },
      "outputs": [],
      "source": [
        "import numpy as np\n",
        "import keras\n",
        "import tensorflow\n",
        "from keras.datasets import cifar10\n",
        "from keras import backend as K\n",
        "from keras.layers import Input, Conv2D, GlobalAveragePooling2D, Dense, BatchNormalization, Activation, MaxPooling2D, CenterCrop\n",
        "from keras.models import Model\n",
        "from keras.layers import concatenate,Dropout,Flatten\n",
        "from tensorflow.keras.utils import to_categorical\n",
        "import matplotlib.pyplot as plt\n",
        "from keras import optimizers,regularizers\n",
        "from keras.preprocessing.image import ImageDataGenerator\n",
        "from keras.initializers import he_normal\n",
        "from keras.callbacks import LearningRateScheduler, TensorBoard, ModelCheckpoint"
      ]
    },
    {
      "cell_type": "markdown",
      "source": [
        "# uploading and preparing data"
      ],
      "metadata": {
        "id": "VIdXnOGvkQHk"
      }
    },
    {
      "cell_type": "code",
      "source": [
        "(x_train, y_train), (x_test, y_test) = cifar10.load_data() "
      ],
      "metadata": {
        "id": "HWTfePnAtPKJ",
        "colab": {
          "base_uri": "https://localhost:8080/"
        },
        "outputId": "229b4cd2-6719-47b4-8279-9532910319a4"
      },
      "execution_count": null,
      "outputs": [
        {
          "output_type": "stream",
          "name": "stdout",
          "text": [
            "Downloading data from https://www.cs.toronto.edu/~kriz/cifar-10-python.tar.gz\n",
            "170500096/170498071 [==============================] - 3s 0us/step\n",
            "170508288/170498071 [==============================] - 3s 0us/step\n"
          ]
        }
      ]
    },
    {
      "cell_type": "code",
      "source": [
        "#standarlized data\n",
        "mean = np.mean(x_train,axis=(0,1,2,3))\n",
        "std = np.std(x_train, axis=(0, 1, 2, 3))\n",
        "x_train = (x_train-mean)/(std+1e-7)\n",
        "x_test = (x_test-mean)/(std+1e-7)"
      ],
      "metadata": {
        "id": "opn_2Qi_tRIK"
      },
      "execution_count": null,
      "outputs": []
    },
    {
      "cell_type": "code",
      "source": [
        "num_classes = 10\n",
        "y_train = tensorflow.keras.utils.to_categorical(y_train, num_classes)\n",
        "y_test = tensorflow.keras.utils.to_categorical(y_test, num_classes)"
      ],
      "metadata": {
        "id": "T5nVswLYtUb5"
      },
      "execution_count": null,
      "outputs": []
    },
    {
      "cell_type": "markdown",
      "source": [
        "# implement the New_Alex network"
      ],
      "metadata": {
        "id": "5bVcCJl_klih"
      }
    },
    {
      "cell_type": "code",
      "source": [
        "from keras.layers.convolutional import Conv2DTranspose\n",
        "def new_alexnet(img_input, classes=10):\n",
        " xnet = CenterCrop(28, 28)(img_input)\n",
        " xnet = Conv2D(64,(3,3),strides=(1,1),padding='same',activation='relu',kernel_initializer='uniform')(xnet)\n",
        " xnet = Conv2D(64,(3,3),strides=(1,1),padding='same',activation='relu',kernel_initializer='uniform')(xnet)\n",
        " xnet = Dropout(0.8)(xnet)\n",
        " xnet = MaxPooling2D(pool_size=(3,3),strides=(2,2),padding='same')(xnet)\n",
        " xnet = Conv2D(128,(3,3),strides=(1,1),padding='same',activation='relu',kernel_initializer='uniform')(xnet)\n",
        " xnet = Conv2D(256,(3,3),strides=(1,1),padding='same',activation='relu',kernel_initializer='uniform')(xnet)\n",
        " xnet = Dropout(0.8)(xnet)\n",
        " xnet = MaxPooling2D(pool_size=(3,3),strides=(2,2),padding='same')(xnet)\n",
        " xnet = Conv2DTranspose(128,(3,3),strides=(1,1),padding='same',activation='relu',kernel_initializer='uniform')(xnet)\n",
        " xnet = Dropout(0.5)(xnet)\n",
        " xnet = MaxPooling2D(pool_size=(3,3),strides=(2,2),padding='same')(xnet)\n",
        " xnet = Conv2DTranspose(64,(3,3),strides=(1,1),padding='same',activation='relu',kernel_initializer='uniform')(xnet)\n",
        " xnet = Dropout(0.5)(xnet)\n",
        " xnet = MaxPooling2D(pool_size=(3,3),strides=(2,2),padding='same')(xnet)\n",
        " xnet = Flatten()(xnet)\n",
        " xnet = Dense(256,activation='relu')(xnet)\n",
        " xnet = Dropout(0.5)(xnet)\n",
        " out_model = Dense(classes, activation='softmax')(xnet)\n",
        " return out_model"
      ],
      "metadata": {
        "id": "VqcX9mJF5X_U"
      },
      "execution_count": null,
      "outputs": []
    },
    {
      "cell_type": "code",
      "source": [
        "# show network structure\n",
        "img_input=Input(shape=(32,32,3))\n",
        "output = new_alexnet(img_input)\n",
        "model=Model(img_input,output)\n",
        "model.summary()"
      ],
      "metadata": {
        "colab": {
          "base_uri": "https://localhost:8080/"
        },
        "id": "UThSPUUPl-Dr",
        "outputId": "05d404df-63a0-481e-ee49-77e1b738b21f"
      },
      "execution_count": null,
      "outputs": [
        {
          "output_type": "stream",
          "name": "stdout",
          "text": [
            "Model: \"model\"\n",
            "_________________________________________________________________\n",
            " Layer (type)                Output Shape              Param #   \n",
            "=================================================================\n",
            " input_1 (InputLayer)        [(None, 32, 32, 3)]       0         \n",
            "                                                                 \n",
            " center_crop (CenterCrop)    (None, 28, 28, 3)         0         \n",
            "                                                                 \n",
            " conv2d (Conv2D)             (None, 28, 28, 64)        1792      \n",
            "                                                                 \n",
            " conv2d_1 (Conv2D)           (None, 28, 28, 64)        36928     \n",
            "                                                                 \n",
            " dropout (Dropout)           (None, 28, 28, 64)        0         \n",
            "                                                                 \n",
            " max_pooling2d (MaxPooling2D  (None, 14, 14, 64)       0         \n",
            " )                                                               \n",
            "                                                                 \n",
            " conv2d_2 (Conv2D)           (None, 14, 14, 128)       73856     \n",
            "                                                                 \n",
            " conv2d_3 (Conv2D)           (None, 14, 14, 256)       295168    \n",
            "                                                                 \n",
            " dropout_1 (Dropout)         (None, 14, 14, 256)       0         \n",
            "                                                                 \n",
            " max_pooling2d_1 (MaxPooling  (None, 7, 7, 256)        0         \n",
            " 2D)                                                             \n",
            "                                                                 \n",
            " conv2d_transpose (Conv2DTra  (None, 7, 7, 128)        295040    \n",
            " nspose)                                                         \n",
            "                                                                 \n",
            " dropout_2 (Dropout)         (None, 7, 7, 128)         0         \n",
            "                                                                 \n",
            " max_pooling2d_2 (MaxPooling  (None, 4, 4, 128)        0         \n",
            " 2D)                                                             \n",
            "                                                                 \n",
            " conv2d_transpose_1 (Conv2DT  (None, 4, 4, 64)         73792     \n",
            " ranspose)                                                       \n",
            "                                                                 \n",
            " dropout_3 (Dropout)         (None, 4, 4, 64)          0         \n",
            "                                                                 \n",
            " max_pooling2d_3 (MaxPooling  (None, 2, 2, 64)         0         \n",
            " 2D)                                                             \n",
            "                                                                 \n",
            " flatten (Flatten)           (None, 256)               0         \n",
            "                                                                 \n",
            " dense (Dense)               (None, 256)               65792     \n",
            "                                                                 \n",
            " dropout_4 (Dropout)         (None, 256)               0         \n",
            "                                                                 \n",
            " dense_1 (Dense)             (None, 10)                2570      \n",
            "                                                                 \n",
            "=================================================================\n",
            "Total params: 844,938\n",
            "Trainable params: 844,938\n",
            "Non-trainable params: 0\n",
            "_________________________________________________________________\n"
          ]
        }
      ]
    },
    {
      "cell_type": "markdown",
      "source": [
        "# fitting New_Alex model"
      ],
      "metadata": {
        "id": "sOYO4jqolRQ7"
      }
    },
    {
      "cell_type": "code",
      "source": [
        "sgd = tensorflow.keras.optimizers.SGD(learning_rate=.01, momentum=0.9, nesterov=True) \n",
        "model.compile(loss='categorical_crossentropy', optimizer=sgd, metrics=['accuracy'])\n",
        "filepath=\"weights.best.hdf5\"\n",
        "checkpoint = ModelCheckpoint(filepath, monitor='val_acc', verbose=1, save_best_only=True, mode='max')\n",
        "callbacks_list = [checkpoint]\n",
        "epochs = 120\n",
        "batch_size = 128\n",
        "iterations = int(x_train.shape[0]/batch_size)\n",
        "datagen = ImageDataGenerator(horizontal_flip=True, width_shift_range=0.115,height_shift_range=0.115, fill_mode='constant',cval=0.)\n",
        "datagen.fit(x_train)\n",
        "model.fit_generator(datagen.flow(x_train, y_train, batch_size=batch_size), steps_per_epoch=iterations, epochs=epochs, callbacks=callbacks_list, validation_data=(x_test, y_test))"
      ],
      "metadata": {
        "id": "WvGGAXDZ9p_L",
        "outputId": "363c0154-8c76-4b4a-f91e-199bb60ea8fb",
        "colab": {
          "base_uri": "https://localhost:8080/"
        }
      },
      "execution_count": null,
      "outputs": [
        {
          "output_type": "stream",
          "name": "stdout",
          "text": [
            "Epoch 1/120\n"
          ]
        },
        {
          "output_type": "stream",
          "name": "stderr",
          "text": [
            "/usr/local/lib/python3.7/dist-packages/ipykernel_launcher.py:1: UserWarning: `Model.fit_generator` is deprecated and will be removed in a future version. Please use `Model.fit`, which supports generators.\n",
            "  \"\"\"Entry point for launching an IPython kernel.\n"
          ]
        },
        {
          "output_type": "stream",
          "name": "stdout",
          "text": [
            "390/390 [==============================] - ETA: 0s - loss: 2.0790 - accuracy: 0.2028WARNING:tensorflow:Can save best model only with val_acc available, skipping.\n",
            "390/390 [==============================] - 59s 60ms/step - loss: 2.0790 - accuracy: 0.2028 - val_loss: 2.2821 - val_accuracy: 0.1060\n",
            "Epoch 2/120\n",
            "390/390 [==============================] - ETA: 0s - loss: 1.7359 - accuracy: 0.3464WARNING:tensorflow:Can save best model only with val_acc available, skipping.\n",
            "390/390 [==============================] - 23s 58ms/step - loss: 1.7359 - accuracy: 0.3464 - val_loss: 2.2318 - val_accuracy: 0.1611\n",
            "Epoch 3/120\n",
            "390/390 [==============================] - ETA: 0s - loss: 1.5968 - accuracy: 0.4088WARNING:tensorflow:Can save best model only with val_acc available, skipping.\n",
            "390/390 [==============================] - 23s 58ms/step - loss: 1.5968 - accuracy: 0.4088 - val_loss: 2.2091 - val_accuracy: 0.1867\n",
            "Epoch 4/120\n",
            "390/390 [==============================] - ETA: 0s - loss: 1.5090 - accuracy: 0.4505WARNING:tensorflow:Can save best model only with val_acc available, skipping.\n",
            "390/390 [==============================] - 23s 58ms/step - loss: 1.5090 - accuracy: 0.4505 - val_loss: 2.1748 - val_accuracy: 0.1892\n",
            "Epoch 5/120\n",
            "390/390 [==============================] - ETA: 0s - loss: 1.4450 - accuracy: 0.4747WARNING:tensorflow:Can save best model only with val_acc available, skipping.\n",
            "390/390 [==============================] - 23s 58ms/step - loss: 1.4450 - accuracy: 0.4747 - val_loss: 2.1435 - val_accuracy: 0.2570\n",
            "Epoch 6/120\n",
            "390/390 [==============================] - ETA: 0s - loss: 1.3924 - accuracy: 0.4977WARNING:tensorflow:Can save best model only with val_acc available, skipping.\n",
            "390/390 [==============================] - 23s 58ms/step - loss: 1.3924 - accuracy: 0.4977 - val_loss: 2.1232 - val_accuracy: 0.2251\n",
            "Epoch 7/120\n",
            "389/390 [============================>.] - ETA: 0s - loss: 1.3390 - accuracy: 0.5203WARNING:tensorflow:Can save best model only with val_acc available, skipping.\n",
            "390/390 [==============================] - 23s 58ms/step - loss: 1.3388 - accuracy: 0.5204 - val_loss: 2.0918 - val_accuracy: 0.2184\n",
            "Epoch 8/120\n",
            "389/390 [============================>.] - ETA: 0s - loss: 1.2969 - accuracy: 0.5362WARNING:tensorflow:Can save best model only with val_acc available, skipping.\n",
            "390/390 [==============================] - 23s 58ms/step - loss: 1.2974 - accuracy: 0.5362 - val_loss: 2.0389 - val_accuracy: 0.3160\n",
            "Epoch 9/120\n",
            "390/390 [==============================] - ETA: 0s - loss: 1.2712 - accuracy: 0.5446WARNING:tensorflow:Can save best model only with val_acc available, skipping.\n",
            "390/390 [==============================] - 23s 58ms/step - loss: 1.2712 - accuracy: 0.5446 - val_loss: 2.0677 - val_accuracy: 0.3073\n",
            "Epoch 10/120\n",
            "390/390 [==============================] - ETA: 0s - loss: 1.2527 - accuracy: 0.5549WARNING:tensorflow:Can save best model only with val_acc available, skipping.\n",
            "390/390 [==============================] - 23s 58ms/step - loss: 1.2527 - accuracy: 0.5549 - val_loss: 2.0277 - val_accuracy: 0.2967\n",
            "Epoch 11/120\n",
            "390/390 [==============================] - ETA: 0s - loss: 1.2192 - accuracy: 0.5673WARNING:tensorflow:Can save best model only with val_acc available, skipping.\n",
            "390/390 [==============================] - 23s 58ms/step - loss: 1.2192 - accuracy: 0.5673 - val_loss: 2.0500 - val_accuracy: 0.2932\n",
            "Epoch 12/120\n",
            "390/390 [==============================] - ETA: 0s - loss: 1.2044 - accuracy: 0.5719WARNING:tensorflow:Can save best model only with val_acc available, skipping.\n",
            "390/390 [==============================] - 23s 58ms/step - loss: 1.2044 - accuracy: 0.5719 - val_loss: 2.0704 - val_accuracy: 0.2939\n",
            "Epoch 13/120\n",
            "390/390 [==============================] - ETA: 0s - loss: 1.1865 - accuracy: 0.5814WARNING:tensorflow:Can save best model only with val_acc available, skipping.\n",
            "390/390 [==============================] - 23s 58ms/step - loss: 1.1865 - accuracy: 0.5814 - val_loss: 1.9871 - val_accuracy: 0.3667\n",
            "Epoch 14/120\n",
            "390/390 [==============================] - ETA: 0s - loss: 1.1729 - accuracy: 0.5846WARNING:tensorflow:Can save best model only with val_acc available, skipping.\n",
            "390/390 [==============================] - 23s 59ms/step - loss: 1.1729 - accuracy: 0.5846 - val_loss: 1.9870 - val_accuracy: 0.3703\n",
            "Epoch 15/120\n",
            "390/390 [==============================] - ETA: 0s - loss: 1.1642 - accuracy: 0.5921WARNING:tensorflow:Can save best model only with val_acc available, skipping.\n",
            "390/390 [==============================] - 23s 58ms/step - loss: 1.1642 - accuracy: 0.5921 - val_loss: 2.0114 - val_accuracy: 0.3252\n",
            "Epoch 16/120\n",
            "389/390 [============================>.] - ETA: 0s - loss: 1.1518 - accuracy: 0.5958WARNING:tensorflow:Can save best model only with val_acc available, skipping.\n",
            "390/390 [==============================] - 23s 58ms/step - loss: 1.1521 - accuracy: 0.5956 - val_loss: 2.0156 - val_accuracy: 0.3029\n",
            "Epoch 17/120\n",
            "390/390 [==============================] - ETA: 0s - loss: 1.1357 - accuracy: 0.6033WARNING:tensorflow:Can save best model only with val_acc available, skipping.\n",
            "390/390 [==============================] - 23s 58ms/step - loss: 1.1357 - accuracy: 0.6033 - val_loss: 2.0043 - val_accuracy: 0.2874\n",
            "Epoch 18/120\n",
            "390/390 [==============================] - ETA: 0s - loss: 1.1297 - accuracy: 0.6034WARNING:tensorflow:Can save best model only with val_acc available, skipping.\n",
            "390/390 [==============================] - 23s 58ms/step - loss: 1.1297 - accuracy: 0.6034 - val_loss: 1.9721 - val_accuracy: 0.3206\n",
            "Epoch 19/120\n",
            "390/390 [==============================] - ETA: 0s - loss: 1.1103 - accuracy: 0.6132WARNING:tensorflow:Can save best model only with val_acc available, skipping.\n",
            "390/390 [==============================] - 23s 58ms/step - loss: 1.1103 - accuracy: 0.6132 - val_loss: 1.9337 - val_accuracy: 0.3791\n",
            "Epoch 20/120\n",
            "390/390 [==============================] - ETA: 0s - loss: 1.1099 - accuracy: 0.6136WARNING:tensorflow:Can save best model only with val_acc available, skipping.\n",
            "390/390 [==============================] - 23s 59ms/step - loss: 1.1099 - accuracy: 0.6136 - val_loss: 1.9632 - val_accuracy: 0.3642\n",
            "Epoch 21/120\n",
            "390/390 [==============================] - ETA: 0s - loss: 1.1060 - accuracy: 0.6173WARNING:tensorflow:Can save best model only with val_acc available, skipping.\n",
            "390/390 [==============================] - 23s 59ms/step - loss: 1.1060 - accuracy: 0.6173 - val_loss: 1.9620 - val_accuracy: 0.3764\n",
            "Epoch 22/120\n",
            "390/390 [==============================] - ETA: 0s - loss: 1.0933 - accuracy: 0.6229WARNING:tensorflow:Can save best model only with val_acc available, skipping.\n",
            "390/390 [==============================] - 23s 58ms/step - loss: 1.0933 - accuracy: 0.6229 - val_loss: 1.9283 - val_accuracy: 0.3693\n",
            "Epoch 23/120\n",
            "390/390 [==============================] - ETA: 0s - loss: 1.0797 - accuracy: 0.6277WARNING:tensorflow:Can save best model only with val_acc available, skipping.\n",
            "390/390 [==============================] - 23s 59ms/step - loss: 1.0797 - accuracy: 0.6277 - val_loss: 1.9577 - val_accuracy: 0.3690\n",
            "Epoch 24/120\n",
            "390/390 [==============================] - ETA: 0s - loss: 1.0720 - accuracy: 0.6268WARNING:tensorflow:Can save best model only with val_acc available, skipping.\n",
            "390/390 [==============================] - 23s 59ms/step - loss: 1.0720 - accuracy: 0.6268 - val_loss: 1.9525 - val_accuracy: 0.3926\n",
            "Epoch 25/120\n",
            "390/390 [==============================] - ETA: 0s - loss: 1.0780 - accuracy: 0.6275WARNING:tensorflow:Can save best model only with val_acc available, skipping.\n",
            "390/390 [==============================] - 23s 59ms/step - loss: 1.0780 - accuracy: 0.6275 - val_loss: 1.9180 - val_accuracy: 0.4118\n",
            "Epoch 26/120\n",
            "390/390 [==============================] - ETA: 0s - loss: 1.0758 - accuracy: 0.6313WARNING:tensorflow:Can save best model only with val_acc available, skipping.\n",
            "390/390 [==============================] - 23s 59ms/step - loss: 1.0758 - accuracy: 0.6313 - val_loss: 1.9527 - val_accuracy: 0.3847\n",
            "Epoch 27/120\n",
            "390/390 [==============================] - ETA: 0s - loss: 1.0646 - accuracy: 0.6342WARNING:tensorflow:Can save best model only with val_acc available, skipping.\n",
            "390/390 [==============================] - 23s 59ms/step - loss: 1.0646 - accuracy: 0.6342 - val_loss: 1.9042 - val_accuracy: 0.4251\n",
            "Epoch 28/120\n",
            "390/390 [==============================] - ETA: 0s - loss: 1.0521 - accuracy: 0.6416WARNING:tensorflow:Can save best model only with val_acc available, skipping.\n",
            "390/390 [==============================] - 23s 59ms/step - loss: 1.0521 - accuracy: 0.6416 - val_loss: 1.9225 - val_accuracy: 0.3625\n",
            "Epoch 29/120\n",
            "390/390 [==============================] - ETA: 0s - loss: 1.0541 - accuracy: 0.6384WARNING:tensorflow:Can save best model only with val_acc available, skipping.\n",
            "390/390 [==============================] - 23s 58ms/step - loss: 1.0541 - accuracy: 0.6384 - val_loss: 1.9302 - val_accuracy: 0.3795\n",
            "Epoch 30/120\n",
            "390/390 [==============================] - ETA: 0s - loss: 1.0617 - accuracy: 0.6401WARNING:tensorflow:Can save best model only with val_acc available, skipping.\n",
            "390/390 [==============================] - 23s 59ms/step - loss: 1.0617 - accuracy: 0.6401 - val_loss: 1.8925 - val_accuracy: 0.4238\n",
            "Epoch 31/120\n",
            "389/390 [============================>.] - ETA: 0s - loss: 1.0452 - accuracy: 0.6432WARNING:tensorflow:Can save best model only with val_acc available, skipping.\n",
            "390/390 [==============================] - 23s 58ms/step - loss: 1.0452 - accuracy: 0.6431 - val_loss: 1.8856 - val_accuracy: 0.4159\n",
            "Epoch 32/120\n",
            "390/390 [==============================] - ETA: 0s - loss: 1.0337 - accuracy: 0.6486WARNING:tensorflow:Can save best model only with val_acc available, skipping.\n",
            "390/390 [==============================] - 23s 59ms/step - loss: 1.0337 - accuracy: 0.6486 - val_loss: 1.9122 - val_accuracy: 0.3962\n",
            "Epoch 33/120\n",
            "390/390 [==============================] - ETA: 0s - loss: 1.0319 - accuracy: 0.6486WARNING:tensorflow:Can save best model only with val_acc available, skipping.\n",
            "390/390 [==============================] - 23s 59ms/step - loss: 1.0319 - accuracy: 0.6486 - val_loss: 1.9065 - val_accuracy: 0.3700\n",
            "Epoch 34/120\n",
            "390/390 [==============================] - ETA: 0s - loss: 1.0434 - accuracy: 0.6448WARNING:tensorflow:Can save best model only with val_acc available, skipping.\n",
            "390/390 [==============================] - 23s 59ms/step - loss: 1.0434 - accuracy: 0.6448 - val_loss: 1.8744 - val_accuracy: 0.4251\n",
            "Epoch 35/120\n",
            "390/390 [==============================] - ETA: 0s - loss: 1.0263 - accuracy: 0.6508WARNING:tensorflow:Can save best model only with val_acc available, skipping.\n",
            "390/390 [==============================] - 23s 59ms/step - loss: 1.0263 - accuracy: 0.6508 - val_loss: 1.8775 - val_accuracy: 0.4193\n",
            "Epoch 36/120\n",
            "390/390 [==============================] - ETA: 0s - loss: 1.0304 - accuracy: 0.6509WARNING:tensorflow:Can save best model only with val_acc available, skipping.\n",
            "390/390 [==============================] - 23s 60ms/step - loss: 1.0304 - accuracy: 0.6509 - val_loss: 1.8888 - val_accuracy: 0.4090\n",
            "Epoch 37/120\n",
            "390/390 [==============================] - ETA: 0s - loss: 1.0191 - accuracy: 0.6529WARNING:tensorflow:Can save best model only with val_acc available, skipping.\n",
            "390/390 [==============================] - 23s 59ms/step - loss: 1.0191 - accuracy: 0.6529 - val_loss: 1.8353 - val_accuracy: 0.4641\n",
            "Epoch 38/120\n",
            "390/390 [==============================] - ETA: 0s - loss: 1.0273 - accuracy: 0.6503WARNING:tensorflow:Can save best model only with val_acc available, skipping.\n",
            "390/390 [==============================] - 23s 59ms/step - loss: 1.0273 - accuracy: 0.6503 - val_loss: 1.9309 - val_accuracy: 0.3913\n",
            "Epoch 39/120\n",
            "390/390 [==============================] - ETA: 0s - loss: 1.0202 - accuracy: 0.6553WARNING:tensorflow:Can save best model only with val_acc available, skipping.\n",
            "390/390 [==============================] - 23s 59ms/step - loss: 1.0202 - accuracy: 0.6553 - val_loss: 1.8864 - val_accuracy: 0.3962\n",
            "Epoch 40/120\n",
            "390/390 [==============================] - ETA: 0s - loss: 1.0268 - accuracy: 0.6538WARNING:tensorflow:Can save best model only with val_acc available, skipping.\n",
            "390/390 [==============================] - 23s 59ms/step - loss: 1.0268 - accuracy: 0.6538 - val_loss: 1.8615 - val_accuracy: 0.4234\n",
            "Epoch 41/120\n",
            "390/390 [==============================] - ETA: 0s - loss: 1.0173 - accuracy: 0.6541WARNING:tensorflow:Can save best model only with val_acc available, skipping.\n",
            "390/390 [==============================] - 23s 59ms/step - loss: 1.0173 - accuracy: 0.6541 - val_loss: 1.8955 - val_accuracy: 0.4191\n",
            "Epoch 42/120\n",
            "390/390 [==============================] - ETA: 0s - loss: 1.0138 - accuracy: 0.6576WARNING:tensorflow:Can save best model only with val_acc available, skipping.\n",
            "390/390 [==============================] - 23s 59ms/step - loss: 1.0138 - accuracy: 0.6576 - val_loss: 1.8540 - val_accuracy: 0.4584\n",
            "Epoch 43/120\n",
            "390/390 [==============================] - ETA: 0s - loss: 1.0153 - accuracy: 0.6553WARNING:tensorflow:Can save best model only with val_acc available, skipping.\n",
            "390/390 [==============================] - 23s 58ms/step - loss: 1.0153 - accuracy: 0.6553 - val_loss: 1.8443 - val_accuracy: 0.4448\n",
            "Epoch 44/120\n",
            "390/390 [==============================] - ETA: 0s - loss: 1.0184 - accuracy: 0.6566WARNING:tensorflow:Can save best model only with val_acc available, skipping.\n",
            "390/390 [==============================] - 23s 59ms/step - loss: 1.0184 - accuracy: 0.6566 - val_loss: 1.9173 - val_accuracy: 0.3960\n",
            "Epoch 45/120\n",
            "390/390 [==============================] - ETA: 0s - loss: 1.0222 - accuracy: 0.6538WARNING:tensorflow:Can save best model only with val_acc available, skipping.\n",
            "390/390 [==============================] - 23s 59ms/step - loss: 1.0222 - accuracy: 0.6538 - val_loss: 1.8767 - val_accuracy: 0.4231\n",
            "Epoch 46/120\n",
            "390/390 [==============================] - ETA: 0s - loss: 1.0137 - accuracy: 0.6587WARNING:tensorflow:Can save best model only with val_acc available, skipping.\n",
            "390/390 [==============================] - 23s 60ms/step - loss: 1.0137 - accuracy: 0.6587 - val_loss: 1.8479 - val_accuracy: 0.4073\n",
            "Epoch 47/120\n",
            "390/390 [==============================] - ETA: 0s - loss: 1.0155 - accuracy: 0.6581WARNING:tensorflow:Can save best model only with val_acc available, skipping.\n",
            "390/390 [==============================] - 23s 59ms/step - loss: 1.0155 - accuracy: 0.6581 - val_loss: 1.7900 - val_accuracy: 0.4881\n",
            "Epoch 48/120\n",
            "390/390 [==============================] - ETA: 0s - loss: 1.0161 - accuracy: 0.6602WARNING:tensorflow:Can save best model only with val_acc available, skipping.\n",
            "390/390 [==============================] - 23s 59ms/step - loss: 1.0161 - accuracy: 0.6602 - val_loss: 1.7796 - val_accuracy: 0.4879\n",
            "Epoch 49/120\n",
            "390/390 [==============================] - ETA: 0s - loss: 1.0060 - accuracy: 0.6616WARNING:tensorflow:Can save best model only with val_acc available, skipping.\n",
            "390/390 [==============================] - 23s 59ms/step - loss: 1.0060 - accuracy: 0.6616 - val_loss: 1.8913 - val_accuracy: 0.4072\n",
            "Epoch 50/120\n",
            "390/390 [==============================] - ETA: 0s - loss: 1.0162 - accuracy: 0.6580WARNING:tensorflow:Can save best model only with val_acc available, skipping.\n",
            "390/390 [==============================] - 23s 59ms/step - loss: 1.0162 - accuracy: 0.6580 - val_loss: 1.7763 - val_accuracy: 0.5101\n",
            "Epoch 51/120\n",
            "390/390 [==============================] - ETA: 0s - loss: 1.0027 - accuracy: 0.6639WARNING:tensorflow:Can save best model only with val_acc available, skipping.\n",
            "390/390 [==============================] - 23s 59ms/step - loss: 1.0027 - accuracy: 0.6639 - val_loss: 1.8508 - val_accuracy: 0.4139\n",
            "Epoch 52/120\n",
            "390/390 [==============================] - ETA: 0s - loss: 1.0176 - accuracy: 0.6607WARNING:tensorflow:Can save best model only with val_acc available, skipping.\n",
            "390/390 [==============================] - 23s 59ms/step - loss: 1.0176 - accuracy: 0.6607 - val_loss: 1.7635 - val_accuracy: 0.5065\n",
            "Epoch 53/120\n",
            "390/390 [==============================] - ETA: 0s - loss: 1.0031 - accuracy: 0.6648WARNING:tensorflow:Can save best model only with val_acc available, skipping.\n",
            "390/390 [==============================] - 23s 60ms/step - loss: 1.0031 - accuracy: 0.6648 - val_loss: 1.8278 - val_accuracy: 0.4519\n",
            "Epoch 54/120\n",
            "390/390 [==============================] - ETA: 0s - loss: 1.0062 - accuracy: 0.6638WARNING:tensorflow:Can save best model only with val_acc available, skipping.\n",
            "390/390 [==============================] - 23s 59ms/step - loss: 1.0062 - accuracy: 0.6638 - val_loss: 1.8286 - val_accuracy: 0.4495\n",
            "Epoch 55/120\n",
            "390/390 [==============================] - ETA: 0s - loss: 1.0190 - accuracy: 0.6603WARNING:tensorflow:Can save best model only with val_acc available, skipping.\n",
            "390/390 [==============================] - 23s 59ms/step - loss: 1.0190 - accuracy: 0.6603 - val_loss: 1.8977 - val_accuracy: 0.4106\n",
            "Epoch 56/120\n",
            "390/390 [==============================] - ETA: 0s - loss: 1.0123 - accuracy: 0.6627WARNING:tensorflow:Can save best model only with val_acc available, skipping.\n",
            "390/390 [==============================] - 23s 59ms/step - loss: 1.0123 - accuracy: 0.6627 - val_loss: 1.8293 - val_accuracy: 0.4444\n",
            "Epoch 57/120\n",
            "390/390 [==============================] - ETA: 0s - loss: 1.0001 - accuracy: 0.6653WARNING:tensorflow:Can save best model only with val_acc available, skipping.\n",
            "390/390 [==============================] - 23s 59ms/step - loss: 1.0001 - accuracy: 0.6653 - val_loss: 1.8680 - val_accuracy: 0.4393\n",
            "Epoch 58/120\n",
            "390/390 [==============================] - ETA: 0s - loss: 1.0061 - accuracy: 0.6661WARNING:tensorflow:Can save best model only with val_acc available, skipping.\n",
            "390/390 [==============================] - 23s 59ms/step - loss: 1.0061 - accuracy: 0.6661 - val_loss: 1.8428 - val_accuracy: 0.4457\n",
            "Epoch 59/120\n",
            "390/390 [==============================] - ETA: 0s - loss: 1.0153 - accuracy: 0.6640WARNING:tensorflow:Can save best model only with val_acc available, skipping.\n",
            "390/390 [==============================] - 23s 59ms/step - loss: 1.0153 - accuracy: 0.6640 - val_loss: 1.7947 - val_accuracy: 0.5018\n",
            "Epoch 60/120\n",
            "390/390 [==============================] - ETA: 0s - loss: 1.0140 - accuracy: 0.6624WARNING:tensorflow:Can save best model only with val_acc available, skipping.\n",
            "390/390 [==============================] - 23s 59ms/step - loss: 1.0140 - accuracy: 0.6624 - val_loss: 1.7689 - val_accuracy: 0.5189\n",
            "Epoch 61/120\n",
            "390/390 [==============================] - ETA: 0s - loss: 1.0074 - accuracy: 0.6640WARNING:tensorflow:Can save best model only with val_acc available, skipping.\n",
            "390/390 [==============================] - 23s 59ms/step - loss: 1.0074 - accuracy: 0.6640 - val_loss: 1.7950 - val_accuracy: 0.4869\n",
            "Epoch 62/120\n",
            "390/390 [==============================] - ETA: 0s - loss: 0.9931 - accuracy: 0.6682WARNING:tensorflow:Can save best model only with val_acc available, skipping.\n",
            "390/390 [==============================] - 23s 59ms/step - loss: 0.9931 - accuracy: 0.6682 - val_loss: 1.7490 - val_accuracy: 0.4918\n",
            "Epoch 63/120\n",
            "390/390 [==============================] - ETA: 0s - loss: 1.0024 - accuracy: 0.6656WARNING:tensorflow:Can save best model only with val_acc available, skipping.\n",
            "390/390 [==============================] - 23s 59ms/step - loss: 1.0024 - accuracy: 0.6656 - val_loss: 1.7498 - val_accuracy: 0.5005\n",
            "Epoch 64/120\n",
            "390/390 [==============================] - ETA: 0s - loss: 1.0115 - accuracy: 0.6642WARNING:tensorflow:Can save best model only with val_acc available, skipping.\n",
            "390/390 [==============================] - 23s 59ms/step - loss: 1.0115 - accuracy: 0.6642 - val_loss: 1.7834 - val_accuracy: 0.4910\n",
            "Epoch 65/120\n",
            "389/390 [============================>.] - ETA: 0s - loss: 1.0030 - accuracy: 0.6647WARNING:tensorflow:Can save best model only with val_acc available, skipping.\n",
            "390/390 [==============================] - 23s 59ms/step - loss: 1.0024 - accuracy: 0.6650 - val_loss: 1.8039 - val_accuracy: 0.4832\n",
            "Epoch 66/120\n",
            "390/390 [==============================] - ETA: 0s - loss: 1.0011 - accuracy: 0.6669WARNING:tensorflow:Can save best model only with val_acc available, skipping.\n",
            "390/390 [==============================] - 23s 59ms/step - loss: 1.0011 - accuracy: 0.6669 - val_loss: 1.7895 - val_accuracy: 0.4725\n",
            "Epoch 67/120\n",
            "390/390 [==============================] - ETA: 0s - loss: 1.0115 - accuracy: 0.6638WARNING:tensorflow:Can save best model only with val_acc available, skipping.\n",
            "390/390 [==============================] - 23s 59ms/step - loss: 1.0115 - accuracy: 0.6638 - val_loss: 1.7494 - val_accuracy: 0.5083\n",
            "Epoch 68/120\n",
            "390/390 [==============================] - ETA: 0s - loss: 1.0058 - accuracy: 0.6703WARNING:tensorflow:Can save best model only with val_acc available, skipping.\n",
            "390/390 [==============================] - 23s 59ms/step - loss: 1.0058 - accuracy: 0.6703 - val_loss: 1.7207 - val_accuracy: 0.5255\n",
            "Epoch 69/120\n",
            "390/390 [==============================] - ETA: 0s - loss: 1.0006 - accuracy: 0.6708WARNING:tensorflow:Can save best model only with val_acc available, skipping.\n",
            "390/390 [==============================] - 23s 59ms/step - loss: 1.0006 - accuracy: 0.6708 - val_loss: 1.7995 - val_accuracy: 0.4991\n",
            "Epoch 70/120\n",
            "390/390 [==============================] - ETA: 0s - loss: 1.0047 - accuracy: 0.6665WARNING:tensorflow:Can save best model only with val_acc available, skipping.\n",
            "390/390 [==============================] - 23s 60ms/step - loss: 1.0047 - accuracy: 0.6665 - val_loss: 1.8133 - val_accuracy: 0.4756\n",
            "Epoch 71/120\n",
            "390/390 [==============================] - ETA: 0s - loss: 1.0088 - accuracy: 0.6661WARNING:tensorflow:Can save best model only with val_acc available, skipping.\n",
            "390/390 [==============================] - 23s 60ms/step - loss: 1.0088 - accuracy: 0.6661 - val_loss: 1.7469 - val_accuracy: 0.5008\n",
            "Epoch 72/120\n",
            "390/390 [==============================] - ETA: 0s - loss: 0.9969 - accuracy: 0.6705WARNING:tensorflow:Can save best model only with val_acc available, skipping.\n",
            "390/390 [==============================] - 23s 60ms/step - loss: 0.9969 - accuracy: 0.6705 - val_loss: 1.7527 - val_accuracy: 0.4915\n",
            "Epoch 73/120\n",
            "390/390 [==============================] - ETA: 0s - loss: 1.0027 - accuracy: 0.6701WARNING:tensorflow:Can save best model only with val_acc available, skipping.\n",
            "390/390 [==============================] - 23s 59ms/step - loss: 1.0027 - accuracy: 0.6701 - val_loss: 1.7240 - val_accuracy: 0.4812\n",
            "Epoch 74/120\n",
            "390/390 [==============================] - ETA: 0s - loss: 1.0062 - accuracy: 0.6682WARNING:tensorflow:Can save best model only with val_acc available, skipping.\n",
            "390/390 [==============================] - 23s 59ms/step - loss: 1.0062 - accuracy: 0.6682 - val_loss: 1.7086 - val_accuracy: 0.5189\n",
            "Epoch 75/120\n",
            "390/390 [==============================] - ETA: 0s - loss: 1.0100 - accuracy: 0.6655WARNING:tensorflow:Can save best model only with val_acc available, skipping.\n",
            "390/390 [==============================] - 23s 59ms/step - loss: 1.0100 - accuracy: 0.6655 - val_loss: 1.7503 - val_accuracy: 0.5001\n",
            "Epoch 76/120\n",
            "390/390 [==============================] - ETA: 0s - loss: 1.0146 - accuracy: 0.6666WARNING:tensorflow:Can save best model only with val_acc available, skipping.\n",
            "390/390 [==============================] - 23s 60ms/step - loss: 1.0146 - accuracy: 0.6666 - val_loss: 1.8113 - val_accuracy: 0.4727\n",
            "Epoch 77/120\n",
            "390/390 [==============================] - ETA: 0s - loss: 1.0196 - accuracy: 0.6650WARNING:tensorflow:Can save best model only with val_acc available, skipping.\n",
            "390/390 [==============================] - 23s 60ms/step - loss: 1.0196 - accuracy: 0.6650 - val_loss: 1.7614 - val_accuracy: 0.5061\n",
            "Epoch 78/120\n",
            "390/390 [==============================] - ETA: 0s - loss: 1.0108 - accuracy: 0.6677WARNING:tensorflow:Can save best model only with val_acc available, skipping.\n",
            "390/390 [==============================] - 23s 60ms/step - loss: 1.0108 - accuracy: 0.6677 - val_loss: 1.7823 - val_accuracy: 0.4789\n",
            "Epoch 79/120\n",
            "390/390 [==============================] - ETA: 0s - loss: 1.0062 - accuracy: 0.6673WARNING:tensorflow:Can save best model only with val_acc available, skipping.\n",
            "390/390 [==============================] - 24s 60ms/step - loss: 1.0062 - accuracy: 0.6673 - val_loss: 1.8169 - val_accuracy: 0.4583\n",
            "Epoch 80/120\n",
            "389/390 [============================>.] - ETA: 0s - loss: 1.0160 - accuracy: 0.6673WARNING:tensorflow:Can save best model only with val_acc available, skipping.\n",
            "390/390 [==============================] - 23s 60ms/step - loss: 1.0160 - accuracy: 0.6674 - val_loss: 1.7758 - val_accuracy: 0.4945\n",
            "Epoch 81/120\n",
            "390/390 [==============================] - ETA: 0s - loss: 1.0100 - accuracy: 0.6682WARNING:tensorflow:Can save best model only with val_acc available, skipping.\n",
            "390/390 [==============================] - 23s 60ms/step - loss: 1.0100 - accuracy: 0.6682 - val_loss: 1.7213 - val_accuracy: 0.5340\n",
            "Epoch 82/120\n",
            "390/390 [==============================] - ETA: 0s - loss: 1.0220 - accuracy: 0.6615WARNING:tensorflow:Can save best model only with val_acc available, skipping.\n",
            "390/390 [==============================] - 24s 60ms/step - loss: 1.0220 - accuracy: 0.6615 - val_loss: 1.7337 - val_accuracy: 0.5095\n",
            "Epoch 83/120\n",
            "390/390 [==============================] - ETA: 0s - loss: 1.0212 - accuracy: 0.6636WARNING:tensorflow:Can save best model only with val_acc available, skipping.\n",
            "390/390 [==============================] - 23s 60ms/step - loss: 1.0212 - accuracy: 0.6636 - val_loss: 1.7971 - val_accuracy: 0.5057\n",
            "Epoch 84/120\n",
            "390/390 [==============================] - ETA: 0s - loss: 1.0125 - accuracy: 0.6681WARNING:tensorflow:Can save best model only with val_acc available, skipping.\n",
            "390/390 [==============================] - 24s 60ms/step - loss: 1.0125 - accuracy: 0.6681 - val_loss: 1.7207 - val_accuracy: 0.5010\n",
            "Epoch 85/120\n",
            "390/390 [==============================] - ETA: 0s - loss: 1.0150 - accuracy: 0.6672WARNING:tensorflow:Can save best model only with val_acc available, skipping.\n",
            "390/390 [==============================] - 24s 60ms/step - loss: 1.0150 - accuracy: 0.6672 - val_loss: 1.6722 - val_accuracy: 0.5553\n",
            "Epoch 86/120\n",
            "390/390 [==============================] - ETA: 0s - loss: 1.0194 - accuracy: 0.6669WARNING:tensorflow:Can save best model only with val_acc available, skipping.\n",
            "390/390 [==============================] - 24s 60ms/step - loss: 1.0194 - accuracy: 0.6669 - val_loss: 1.7690 - val_accuracy: 0.4947\n",
            "Epoch 87/120\n",
            "390/390 [==============================] - ETA: 0s - loss: 1.0100 - accuracy: 0.6671WARNING:tensorflow:Can save best model only with val_acc available, skipping.\n",
            "390/390 [==============================] - 24s 60ms/step - loss: 1.0100 - accuracy: 0.6671 - val_loss: 1.7358 - val_accuracy: 0.5097\n",
            "Epoch 88/120\n",
            "390/390 [==============================] - ETA: 0s - loss: 1.0169 - accuracy: 0.6635WARNING:tensorflow:Can save best model only with val_acc available, skipping.\n",
            "390/390 [==============================] - 24s 61ms/step - loss: 1.0169 - accuracy: 0.6635 - val_loss: 1.7089 - val_accuracy: 0.5323\n",
            "Epoch 89/120\n",
            "390/390 [==============================] - ETA: 0s - loss: 1.0331 - accuracy: 0.6613WARNING:tensorflow:Can save best model only with val_acc available, skipping.\n",
            "390/390 [==============================] - 24s 60ms/step - loss: 1.0331 - accuracy: 0.6613 - val_loss: 1.7947 - val_accuracy: 0.4584\n",
            "Epoch 90/120\n",
            "389/390 [============================>.] - ETA: 0s - loss: 1.0284 - accuracy: 0.6616WARNING:tensorflow:Can save best model only with val_acc available, skipping.\n",
            "390/390 [==============================] - 24s 61ms/step - loss: 1.0279 - accuracy: 0.6618 - val_loss: 1.7836 - val_accuracy: 0.5080\n",
            "Epoch 91/120\n",
            "390/390 [==============================] - ETA: 0s - loss: 1.0237 - accuracy: 0.6647WARNING:tensorflow:Can save best model only with val_acc available, skipping.\n",
            "390/390 [==============================] - 24s 61ms/step - loss: 1.0237 - accuracy: 0.6647 - val_loss: 1.7191 - val_accuracy: 0.5210\n",
            "Epoch 92/120\n",
            "390/390 [==============================] - ETA: 0s - loss: 1.0333 - accuracy: 0.6610WARNING:tensorflow:Can save best model only with val_acc available, skipping.\n",
            "390/390 [==============================] - 24s 60ms/step - loss: 1.0333 - accuracy: 0.6610 - val_loss: 1.6788 - val_accuracy: 0.5520\n",
            "Epoch 93/120\n",
            "390/390 [==============================] - ETA: 0s - loss: 1.0397 - accuracy: 0.6604WARNING:tensorflow:Can save best model only with val_acc available, skipping.\n",
            "390/390 [==============================] - 24s 61ms/step - loss: 1.0397 - accuracy: 0.6604 - val_loss: 1.7244 - val_accuracy: 0.5393\n",
            "Epoch 94/120\n",
            "390/390 [==============================] - ETA: 0s - loss: 1.0356 - accuracy: 0.6617WARNING:tensorflow:Can save best model only with val_acc available, skipping.\n",
            "390/390 [==============================] - 24s 61ms/step - loss: 1.0356 - accuracy: 0.6617 - val_loss: 1.7033 - val_accuracy: 0.5302\n",
            "Epoch 95/120\n",
            "390/390 [==============================] - ETA: 0s - loss: 1.0184 - accuracy: 0.6670WARNING:tensorflow:Can save best model only with val_acc available, skipping.\n",
            "390/390 [==============================] - 24s 61ms/step - loss: 1.0184 - accuracy: 0.6670 - val_loss: 1.7131 - val_accuracy: 0.5417\n",
            "Epoch 96/120\n",
            "390/390 [==============================] - ETA: 0s - loss: 1.0273 - accuracy: 0.6621WARNING:tensorflow:Can save best model only with val_acc available, skipping.\n",
            "390/390 [==============================] - 24s 61ms/step - loss: 1.0273 - accuracy: 0.6621 - val_loss: 1.7776 - val_accuracy: 0.4740\n",
            "Epoch 97/120\n",
            "390/390 [==============================] - ETA: 0s - loss: 1.0455 - accuracy: 0.6587WARNING:tensorflow:Can save best model only with val_acc available, skipping.\n",
            "390/390 [==============================] - 23s 60ms/step - loss: 1.0455 - accuracy: 0.6587 - val_loss: 1.6964 - val_accuracy: 0.5556\n",
            "Epoch 98/120\n",
            "390/390 [==============================] - ETA: 0s - loss: 1.0411 - accuracy: 0.6610WARNING:tensorflow:Can save best model only with val_acc available, skipping.\n",
            "390/390 [==============================] - 23s 60ms/step - loss: 1.0411 - accuracy: 0.6610 - val_loss: 1.7264 - val_accuracy: 0.5310\n",
            "Epoch 99/120\n",
            "390/390 [==============================] - ETA: 0s - loss: 1.0480 - accuracy: 0.6570WARNING:tensorflow:Can save best model only with val_acc available, skipping.\n",
            "390/390 [==============================] - 23s 60ms/step - loss: 1.0480 - accuracy: 0.6570 - val_loss: 1.7616 - val_accuracy: 0.5312\n",
            "Epoch 100/120\n",
            "390/390 [==============================] - ETA: 0s - loss: 1.0316 - accuracy: 0.6640WARNING:tensorflow:Can save best model only with val_acc available, skipping.\n",
            "390/390 [==============================] - 23s 59ms/step - loss: 1.0316 - accuracy: 0.6640 - val_loss: 1.7044 - val_accuracy: 0.5717\n",
            "Epoch 101/120\n",
            "390/390 [==============================] - ETA: 0s - loss: 1.0413 - accuracy: 0.6618WARNING:tensorflow:Can save best model only with val_acc available, skipping.\n",
            "390/390 [==============================] - 23s 60ms/step - loss: 1.0413 - accuracy: 0.6618 - val_loss: 1.8065 - val_accuracy: 0.4448\n",
            "Epoch 102/120\n",
            "390/390 [==============================] - ETA: 0s - loss: 1.0475 - accuracy: 0.6595WARNING:tensorflow:Can save best model only with val_acc available, skipping.\n",
            "390/390 [==============================] - 23s 60ms/step - loss: 1.0475 - accuracy: 0.6595 - val_loss: 1.7691 - val_accuracy: 0.4647\n",
            "Epoch 103/120\n",
            "390/390 [==============================] - ETA: 0s - loss: 1.0339 - accuracy: 0.6636WARNING:tensorflow:Can save best model only with val_acc available, skipping.\n",
            "390/390 [==============================] - 24s 60ms/step - loss: 1.0339 - accuracy: 0.6636 - val_loss: 1.7017 - val_accuracy: 0.5207\n",
            "Epoch 104/120\n",
            "390/390 [==============================] - ETA: 0s - loss: 1.0338 - accuracy: 0.6616WARNING:tensorflow:Can save best model only with val_acc available, skipping.\n",
            "390/390 [==============================] - 24s 60ms/step - loss: 1.0338 - accuracy: 0.6616 - val_loss: 1.6789 - val_accuracy: 0.5530\n",
            "Epoch 105/120\n",
            "390/390 [==============================] - ETA: 0s - loss: 1.0632 - accuracy: 0.6528WARNING:tensorflow:Can save best model only with val_acc available, skipping.\n",
            "390/390 [==============================] - 24s 60ms/step - loss: 1.0632 - accuracy: 0.6528 - val_loss: 1.6967 - val_accuracy: 0.5160\n",
            "Epoch 106/120\n",
            "390/390 [==============================] - ETA: 0s - loss: 1.0606 - accuracy: 0.6558WARNING:tensorflow:Can save best model only with val_acc available, skipping.\n",
            "390/390 [==============================] - 24s 60ms/step - loss: 1.0606 - accuracy: 0.6558 - val_loss: 1.7733 - val_accuracy: 0.5334\n",
            "Epoch 107/120\n",
            "390/390 [==============================] - ETA: 0s - loss: 1.0623 - accuracy: 0.6537WARNING:tensorflow:Can save best model only with val_acc available, skipping.\n",
            "390/390 [==============================] - 24s 60ms/step - loss: 1.0623 - accuracy: 0.6537 - val_loss: 1.7028 - val_accuracy: 0.5563\n",
            "Epoch 108/120\n",
            "390/390 [==============================] - ETA: 0s - loss: 1.0714 - accuracy: 0.6511WARNING:tensorflow:Can save best model only with val_acc available, skipping.\n",
            "390/390 [==============================] - 24s 61ms/step - loss: 1.0714 - accuracy: 0.6511 - val_loss: 1.7370 - val_accuracy: 0.5304\n",
            "Epoch 109/120\n",
            "390/390 [==============================] - ETA: 0s - loss: 1.0739 - accuracy: 0.6501WARNING:tensorflow:Can save best model only with val_acc available, skipping.\n",
            "390/390 [==============================] - 25s 63ms/step - loss: 1.0739 - accuracy: 0.6501 - val_loss: 1.7451 - val_accuracy: 0.5260\n",
            "Epoch 110/120\n",
            "390/390 [==============================] - ETA: 0s - loss: 1.0730 - accuracy: 0.6527WARNING:tensorflow:Can save best model only with val_acc available, skipping.\n",
            "390/390 [==============================] - 23s 60ms/step - loss: 1.0730 - accuracy: 0.6527 - val_loss: 1.7120 - val_accuracy: 0.5402\n",
            "Epoch 111/120\n",
            "389/390 [============================>.] - ETA: 0s - loss: 1.0656 - accuracy: 0.6540WARNING:tensorflow:Can save best model only with val_acc available, skipping.\n",
            "390/390 [==============================] - 23s 60ms/step - loss: 1.0655 - accuracy: 0.6540 - val_loss: 1.6458 - val_accuracy: 0.5692\n",
            "Epoch 112/120\n",
            "390/390 [==============================] - ETA: 0s - loss: 1.0631 - accuracy: 0.6566WARNING:tensorflow:Can save best model only with val_acc available, skipping.\n",
            "390/390 [==============================] - 24s 60ms/step - loss: 1.0631 - accuracy: 0.6566 - val_loss: 1.7274 - val_accuracy: 0.5089\n",
            "Epoch 113/120\n",
            "390/390 [==============================] - ETA: 0s - loss: 1.0819 - accuracy: 0.6494WARNING:tensorflow:Can save best model only with val_acc available, skipping.\n",
            "390/390 [==============================] - 23s 60ms/step - loss: 1.0819 - accuracy: 0.6494 - val_loss: 1.6861 - val_accuracy: 0.5652\n",
            "Epoch 114/120\n",
            "389/390 [============================>.] - ETA: 0s - loss: 1.0957 - accuracy: 0.6406WARNING:tensorflow:Can save best model only with val_acc available, skipping.\n",
            "390/390 [==============================] - 23s 60ms/step - loss: 1.0954 - accuracy: 0.6407 - val_loss: 1.7990 - val_accuracy: 0.4868\n",
            "Epoch 115/120\n",
            "390/390 [==============================] - ETA: 0s - loss: 1.0930 - accuracy: 0.6436WARNING:tensorflow:Can save best model only with val_acc available, skipping.\n",
            "390/390 [==============================] - 23s 60ms/step - loss: 1.0930 - accuracy: 0.6436 - val_loss: 1.7098 - val_accuracy: 0.5478\n",
            "Epoch 116/120\n",
            "389/390 [============================>.] - ETA: 0s - loss: 1.0856 - accuracy: 0.6494WARNING:tensorflow:Can save best model only with val_acc available, skipping.\n",
            "390/390 [==============================] - 23s 60ms/step - loss: 1.0856 - accuracy: 0.6495 - val_loss: 1.7377 - val_accuracy: 0.4999\n",
            "Epoch 117/120\n",
            "390/390 [==============================] - ETA: 0s - loss: 1.0713 - accuracy: 0.6507WARNING:tensorflow:Can save best model only with val_acc available, skipping.\n",
            "390/390 [==============================] - 24s 61ms/step - loss: 1.0713 - accuracy: 0.6507 - val_loss: 1.6736 - val_accuracy: 0.5562\n",
            "Epoch 118/120\n",
            "390/390 [==============================] - ETA: 0s - loss: 1.0804 - accuracy: 0.6505WARNING:tensorflow:Can save best model only with val_acc available, skipping.\n",
            "390/390 [==============================] - 24s 60ms/step - loss: 1.0804 - accuracy: 0.6505 - val_loss: 1.7134 - val_accuracy: 0.5093\n",
            "Epoch 119/120\n",
            "390/390 [==============================] - ETA: 0s - loss: 1.0774 - accuracy: 0.6519WARNING:tensorflow:Can save best model only with val_acc available, skipping.\n",
            "390/390 [==============================] - 24s 61ms/step - loss: 1.0774 - accuracy: 0.6519 - val_loss: 1.6771 - val_accuracy: 0.5369\n",
            "Epoch 120/120\n",
            "390/390 [==============================] - ETA: 0s - loss: 1.0884 - accuracy: 0.6469WARNING:tensorflow:Can save best model only with val_acc available, skipping.\n",
            "390/390 [==============================] - 24s 60ms/step - loss: 1.0884 - accuracy: 0.6469 - val_loss: 1.7360 - val_accuracy: 0.5320\n"
          ]
        },
        {
          "output_type": "execute_result",
          "data": {
            "text/plain": [
              "<keras.callbacks.History at 0x7f4ae8707790>"
            ]
          },
          "metadata": {},
          "execution_count": 48
        }
      ]
    },
    {
      "cell_type": "markdown",
      "source": [
        "# generating accuracy and loss plots"
      ],
      "metadata": {
        "id": "QCBGvFqplbEX"
      }
    },
    {
      "cell_type": "code",
      "source": [
        "f, ax = plt.subplots()\n",
        "ax.plot([None] + model.history.history['accuracy'], 'o-')\n",
        "ax.plot([None] + model.history.history['val_accuracy'], 'x-')\n",
        "ax.legend(['Train acc', 'Validation acc'], loc = 0)\n",
        "ax.set_title('Training/Validation acc per Epoch')\n",
        "ax.set_xlabel('Epoch')\n",
        "ax.set_ylabel('acc')"
      ],
      "metadata": {
        "colab": {
          "base_uri": "https://localhost:8080/",
          "height": 313
        },
        "id": "Dw6ChbQ49GfS",
        "outputId": "130541b8-c25f-43f2-c60b-a36e33d88ef0"
      },
      "execution_count": null,
      "outputs": [
        {
          "output_type": "execute_result",
          "data": {
            "text/plain": [
              "Text(0, 0.5, 'acc')"
            ]
          },
          "metadata": {},
          "execution_count": 49
        },
        {
          "output_type": "display_data",
          "data": {
            "text/plain": [
              "<Figure size 432x288 with 1 Axes>"
            ],
            "image/png": "[encoded data removed]"
          },
          "metadata": {
            "needs_background": "light"
          }
        }
      ]
    },
    {
      "cell_type": "code",
      "source": [
        "f, ax = plt.subplots()\n",
        "ax.plot([None] + model.history.history['loss'], 'o-')\n",
        "ax.plot([None] + model.history.history['val_loss'], 'x-')\n",
        "ax.legend(['Train loss', 'Validation loss'], loc = 0)\n",
        "ax.set_title('Training/Validation loss per Epoch')\n",
        "ax.set_xlabel('Epoch')\n",
        "ax.set_ylabel('loss')"
      ],
      "metadata": {
        "colab": {
          "base_uri": "https://localhost:8080/",
          "height": 313
        },
        "id": "herKGt7upN32",
        "outputId": "3b4274dd-d00c-4b67-ef21-0ccccc1dfcdc"
      },
      "execution_count": null,
      "outputs": [
        {
          "output_type": "execute_result",
          "data": {
            "text/plain": [
              "Text(0, 0.5, 'loss')"
            ]
          },
          "metadata": {},
          "execution_count": 50
        },
        {
          "output_type": "display_data",
          "data": {
            "text/plain": [
              "<Figure size 432x288 with 1 Axes>"
            ],
            "image/png": "[encoded data removed]"
          },
          "metadata": {
            "needs_background": "light"
          }
        }
      ]
    },
    {
      "cell_type": "markdown",
      "source": [
        "# implememnt restructured New_Alex"
      ],
      "metadata": {
        "id": "dLPNQqGVlh_K"
      }
    },
    {
      "cell_type": "code",
      "source": [
        "from keras.layers.convolutional import Conv2DTranspose\n",
        "def new_alexnet1(img_input, classes=10):\n",
        " xnet = CenterCrop(28, 28)(img_input)\n",
        " xnet = Conv2D(64,(3,3),strides=(1,1),padding='same',activation='relu',kernel_initializer='uniform')(xnet)\n",
        " #xnet = Conv2D(64,(3,3),strides=(1,1),padding='same',activation='relu',kernel_initializer='uniform')(xnet)\n",
        " xnet = Dropout(0.5)(xnet)\n",
        " xnet = MaxPooling2D(pool_size=(3,3),strides=(2,2),padding='same')(xnet)\n",
        " xnet = Conv2D(128,(3,3),strides=(1,1),padding='same',activation='relu',kernel_initializer='uniform')(xnet)\n",
        " #xnet = Conv2D(256,(3,3),strides=(1,1),padding='same',activation='relu',kernel_initializer='uniform')(xnet)\n",
        " xnet = Dropout(0.3)(xnet)\n",
        " xnet = MaxPooling2D(pool_size=(3,3),strides=(2,2),padding='same')(xnet)\n",
        " xnet = Conv2DTranspose(128,(3,3),strides=(1,1),padding='same',activation='relu',kernel_initializer='uniform')(xnet)\n",
        " xnet = Dropout(0.3)(xnet)\n",
        " xnet = MaxPooling2D(pool_size=(3,3),strides=(2,2),padding='same')(xnet)\n",
        " xnet = Conv2DTranspose(64,(3,3),strides=(1,1),padding='same',activation='relu',kernel_initializer='uniform')(xnet)\n",
        " xnet = Dropout(0.3)(xnet)\n",
        " xnet = MaxPooling2D(pool_size=(3,3),strides=(2,2),padding='same')(xnet)\n",
        " xnet = Flatten()(xnet)\n",
        " xnet = Dense(256,activation='relu')(xnet)\n",
        " xnet = Dropout(0.3)(xnet)\n",
        " out_model = Dense(classes, activation='softmax')(xnet)\n",
        " return out_model"
      ],
      "metadata": {
        "id": "O-eM8CE1tWuL"
      },
      "execution_count": null,
      "outputs": []
    },
    {
      "cell_type": "code",
      "source": [
        "# show network structure\n",
        "img_input=Input(shape=(32,32,3))\n",
        "output = new_alexnet1(img_input)\n",
        "model1=Model(img_input,output)\n",
        "model1.summary()"
      ],
      "metadata": {
        "colab": {
          "base_uri": "https://localhost:8080/"
        },
        "id": "xrVQp-1M4jEd",
        "outputId": "c77d765b-8245-45fd-a79d-a8c8176fd687"
      },
      "execution_count": null,
      "outputs": [
        {
          "output_type": "stream",
          "name": "stdout",
          "text": [
            "Model: \"model\"\n",
            "_________________________________________________________________\n",
            " Layer (type)                Output Shape              Param #   \n",
            "=================================================================\n",
            " input_1 (InputLayer)        [(None, 32, 32, 3)]       0         \n",
            "                                                                 \n",
            " center_crop (CenterCrop)    (None, 28, 28, 3)         0         \n",
            "                                                                 \n",
            " conv2d (Conv2D)             (None, 28, 28, 64)        1792      \n",
            "                                                                 \n",
            " dropout (Dropout)           (None, 28, 28, 64)        0         \n",
            "                                                                 \n",
            " max_pooling2d (MaxPooling2D  (None, 14, 14, 64)       0         \n",
            " )                                                               \n",
            "                                                                 \n",
            " conv2d_1 (Conv2D)           (None, 14, 14, 128)       73856     \n",
            "                                                                 \n",
            " dropout_1 (Dropout)         (None, 14, 14, 128)       0         \n",
            "                                                                 \n",
            " max_pooling2d_1 (MaxPooling  (None, 7, 7, 128)        0         \n",
            " 2D)                                                             \n",
            "                                                                 \n",
            " conv2d_transpose (Conv2DTra  (None, 7, 7, 128)        147584    \n",
            " nspose)                                                         \n",
            "                                                                 \n",
            " dropout_2 (Dropout)         (None, 7, 7, 128)         0         \n",
            "                                                                 \n",
            " max_pooling2d_2 (MaxPooling  (None, 4, 4, 128)        0         \n",
            " 2D)                                                             \n",
            "                                                                 \n",
            " conv2d_transpose_1 (Conv2DT  (None, 4, 4, 64)         73792     \n",
            " ranspose)                                                       \n",
            "                                                                 \n",
            " dropout_3 (Dropout)         (None, 4, 4, 64)          0         \n",
            "                                                                 \n",
            " max_pooling2d_3 (MaxPooling  (None, 2, 2, 64)         0         \n",
            " 2D)                                                             \n",
            "                                                                 \n",
            " flatten (Flatten)           (None, 256)               0         \n",
            "                                                                 \n",
            " dense (Dense)               (None, 256)               65792     \n",
            "                                                                 \n",
            " dropout_4 (Dropout)         (None, 256)               0         \n",
            "                                                                 \n",
            " dense_1 (Dense)             (None, 10)                2570      \n",
            "                                                                 \n",
            "=================================================================\n",
            "Total params: 365,386\n",
            "Trainable params: 365,386\n",
            "Non-trainable params: 0\n",
            "_________________________________________________________________\n"
          ]
        }
      ]
    },
    {
      "cell_type": "markdown",
      "source": [
        "# fitting restructured New_Alex model"
      ],
      "metadata": {
        "id": "1uKXY-dmmK5e"
      }
    },
    {
      "cell_type": "code",
      "source": [
        "img_input=Input(shape=(32,32,3))\n",
        "output = new_alexnet1(img_input)\n",
        "model1=Model(img_input,output)\n",
        "sgd = tensorflow.keras.optimizers.SGD(learning_rate=.01, momentum=0.9, nesterov=True) \n",
        "model1.compile(loss='categorical_crossentropy', optimizer=sgd, metrics=['accuracy'])\n",
        "filepath=\"weights.best.hdf5\"\n",
        "checkpoint = ModelCheckpoint(filepath, monitor='val_acc', verbose=1, save_best_only=True, mode='max')\n",
        "callbacks_list = [checkpoint]\n",
        "epochs = 120\n",
        "batch_size = 128\n",
        "iterations = int(x_train.shape[0]/batch_size)\n",
        "datagen = ImageDataGenerator(horizontal_flip=True, width_shift_range=0.115,height_shift_range=0.115, fill_mode='constant',cval=0.)\n",
        "datagen.fit(x_train)\n",
        "model1.fit(datagen.flow(x_train, y_train, batch_size=batch_size), steps_per_epoch=iterations, epochs=epochs, callbacks=callbacks_list, validation_data=(x_test, y_test))"
      ],
      "metadata": {
        "colab": {
          "base_uri": "https://localhost:8080/"
        },
        "id": "u69MXSNq58YC",
        "outputId": "dae35455-1e3e-4b6b-de12-a3101d8c399f"
      },
      "execution_count": null,
      "outputs": [
        {
          "output_type": "stream",
          "name": "stdout",
          "text": [
            "Epoch 1/120\n",
            "390/390 [==============================] - ETA: 0s - loss: 1.7071 - accuracy: 0.3685WARNING:tensorflow:Can save best model only with val_acc available, skipping.\n",
            "390/390 [==============================] - 24s 59ms/step - loss: 1.7071 - accuracy: 0.3685 - val_loss: 1.8346 - val_accuracy: 0.3893\n",
            "Epoch 2/120\n",
            "389/390 [============================>.] - ETA: 0s - loss: 1.3652 - accuracy: 0.5049WARNING:tensorflow:Can save best model only with val_acc available, skipping.\n",
            "390/390 [==============================] - 22s 56ms/step - loss: 1.3651 - accuracy: 0.5049 - val_loss: 1.5804 - val_accuracy: 0.5120\n",
            "Epoch 3/120\n",
            "390/390 [==============================] - ETA: 0s - loss: 1.2076 - accuracy: 0.5704WARNING:tensorflow:Can save best model only with val_acc available, skipping.\n",
            "390/390 [==============================] - 22s 56ms/step - loss: 1.2076 - accuracy: 0.5704 - val_loss: 1.4598 - val_accuracy: 0.5422\n",
            "Epoch 4/120\n",
            "390/390 [==============================] - ETA: 0s - loss: 1.0989 - accuracy: 0.6116WARNING:tensorflow:Can save best model only with val_acc available, skipping.\n",
            "390/390 [==============================] - 23s 58ms/step - loss: 1.0989 - accuracy: 0.6116 - val_loss: 1.3280 - val_accuracy: 0.6148\n",
            "Epoch 5/120\n",
            "390/390 [==============================] - ETA: 0s - loss: 1.0321 - accuracy: 0.6380WARNING:tensorflow:Can save best model only with val_acc available, skipping.\n",
            "390/390 [==============================] - 22s 56ms/step - loss: 1.0321 - accuracy: 0.6380 - val_loss: 1.2540 - val_accuracy: 0.6474\n",
            "Epoch 6/120\n",
            "389/390 [============================>.] - ETA: 0s - loss: 0.9779 - accuracy: 0.6579WARNING:tensorflow:Can save best model only with val_acc available, skipping.\n",
            "390/390 [==============================] - 22s 57ms/step - loss: 0.9777 - accuracy: 0.6581 - val_loss: 1.1643 - val_accuracy: 0.6785\n",
            "Epoch 7/120\n",
            "390/390 [==============================] - ETA: 0s - loss: 0.9341 - accuracy: 0.6734WARNING:tensorflow:Can save best model only with val_acc available, skipping.\n",
            "390/390 [==============================] - 22s 57ms/step - loss: 0.9341 - accuracy: 0.6734 - val_loss: 1.2273 - val_accuracy: 0.6590\n",
            "Epoch 8/120\n",
            "390/390 [==============================] - ETA: 0s - loss: 0.8972 - accuracy: 0.6874WARNING:tensorflow:Can save best model only with val_acc available, skipping.\n",
            "390/390 [==============================] - 22s 57ms/step - loss: 0.8972 - accuracy: 0.6874 - val_loss: 1.1853 - val_accuracy: 0.6458\n",
            "Epoch 9/120\n",
            "390/390 [==============================] - ETA: 0s - loss: 0.8702 - accuracy: 0.6966WARNING:tensorflow:Can save best model only with val_acc available, skipping.\n",
            "390/390 [==============================] - 22s 57ms/step - loss: 0.8702 - accuracy: 0.6966 - val_loss: 1.1237 - val_accuracy: 0.6806\n",
            "Epoch 10/120\n",
            "389/390 [============================>.] - ETA: 0s - loss: 0.8393 - accuracy: 0.7098WARNING:tensorflow:Can save best model only with val_acc available, skipping.\n",
            "390/390 [==============================] - 22s 56ms/step - loss: 0.8395 - accuracy: 0.7098 - val_loss: 1.0897 - val_accuracy: 0.7086\n",
            "Epoch 11/120\n",
            "390/390 [==============================] - ETA: 0s - loss: 0.8185 - accuracy: 0.7171WARNING:tensorflow:Can save best model only with val_acc available, skipping.\n",
            "390/390 [==============================] - 22s 56ms/step - loss: 0.8185 - accuracy: 0.7171 - val_loss: 1.0665 - val_accuracy: 0.7022\n",
            "Epoch 12/120\n",
            "390/390 [==============================] - ETA: 0s - loss: 0.7988 - accuracy: 0.7234WARNING:tensorflow:Can save best model only with val_acc available, skipping.\n",
            "390/390 [==============================] - 22s 57ms/step - loss: 0.7988 - accuracy: 0.7234 - val_loss: 1.0839 - val_accuracy: 0.6776\n",
            "Epoch 13/120\n",
            "390/390 [==============================] - ETA: 0s - loss: 0.7742 - accuracy: 0.7331WARNING:tensorflow:Can save best model only with val_acc available, skipping.\n",
            "390/390 [==============================] - 22s 57ms/step - loss: 0.7742 - accuracy: 0.7331 - val_loss: 1.0026 - val_accuracy: 0.7220\n",
            "Epoch 14/120\n",
            "390/390 [==============================] - ETA: 0s - loss: 0.7655 - accuracy: 0.7359WARNING:tensorflow:Can save best model only with val_acc available, skipping.\n",
            "390/390 [==============================] - 22s 57ms/step - loss: 0.7655 - accuracy: 0.7359 - val_loss: 0.9576 - val_accuracy: 0.7338\n",
            "Epoch 15/120\n",
            "390/390 [==============================] - ETA: 0s - loss: 0.7538 - accuracy: 0.7414WARNING:tensorflow:Can save best model only with val_acc available, skipping.\n",
            "390/390 [==============================] - 22s 57ms/step - loss: 0.7538 - accuracy: 0.7414 - val_loss: 0.9620 - val_accuracy: 0.7239\n"
          ]
        }
      ]
    },
    {
      "cell_type": "markdown",
      "source": [
        "# generating accuracy plot"
      ],
      "metadata": {
        "id": "3RutkbdumRYm"
      }
    },
    {
      "cell_type": "code",
      "source": [
        "f, ax = plt.subplots()\n",
        "ax.plot([None] + model1.history.history['accuracy'], 'o-')\n",
        "ax.plot([None] + model1.history.history['val_accuracy'], 'x-')\n",
        "ax.legend(['Train acc', 'Validation acc'], loc = 0)\n",
        "ax.set_title('Training/Validation acc per Epoch')\n",
        "ax.set_xlabel('Epoch')\n",
        "ax.set_ylabel('acc')"
      ],
      "metadata": {
        "colab": {
          "base_uri": "https://localhost:8080/",
          "height": 312
        },
        "id": "WgvW6imJ71IM",
        "outputId": "c4f15b60-d928-40ad-aeb8-2eb259e1767a"
      },
      "execution_count": null,
      "outputs": [
        {
          "output_type": "execute_result",
          "data": {
            "text/plain": [
              "Text(0, 0.5, 'acc')"
            ]
          },
          "metadata": {},
          "execution_count": 8
        },
        {
          "output_type": "display_data",
          "data": {
            "text/plain": [
              "<Figure size 432x288 with 1 Axes>"
            ],
            "image/png": "[encoded data removed]"
          },
          "metadata": {
            "needs_background": "light"
          }
        }
      ]
    }
  ]
}