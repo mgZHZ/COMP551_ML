{
  "nbformat": 4,
  "nbformat_minor": 0,
  "metadata": {
    "colab": {
      "name": "Comp551AlexNet.ipynb",
      "provenance": []
    },
    "kernelspec": {
      "name": "python3",
      "display_name": "Python 3"
    },
    "language_info": {
      "name": "python"
    }
  },
  "cells": [
    {
      "cell_type": "markdown",
      "source": [
        "# import packages and libraries"
      ],
      "metadata": {
        "id": "4pGQ7kgfmxdZ"
      }
    },
    {
      "cell_type": "code",
      "execution_count": null,
      "metadata": {
        "id": "6sQO8j85kCBr"
      },
      "outputs": [],
      "source": [
        "import numpy as np\n",
        "import keras\n",
        "import tensorflow\n",
        "from keras.datasets import cifar10\n",
        "from keras import backend as K\n",
        "from keras.layers import Input, Conv2D, GlobalAveragePooling2D, Dense, BatchNormalization, Activation, MaxPooling2D, CenterCrop\n",
        "from keras.models import Model\n",
        "from keras.layers import concatenate,Dropout,Flatten\n",
        "from tensorflow.keras.utils import to_categorical\n",
        "import matplotlib.pyplot as plt\n",
        "from keras import optimizers,regularizers\n",
        "from keras.preprocessing.image import ImageDataGenerator\n",
        "from keras.initializers import he_normal\n",
        "from keras.callbacks import LearningRateScheduler, TensorBoard, ModelCheckpoint"
      ]
    },
    {
      "cell_type": "markdown",
      "source": [
        "# uploading and preparing data"
      ],
      "metadata": {
        "id": "kSvxKul9m5tv"
      }
    },
    {
      "cell_type": "code",
      "source": [
        "# loading data\n",
        "(x_train, y_train), (x_test, y_test) = cifar10.load_data() "
      ],
      "metadata": {
        "colab": {
          "base_uri": "https://localhost:8080/"
        },
        "id": "4qIL6iHXkPRT",
        "outputId": "baa04ec4-3f0c-4ac1-8e98-1c3846075641"
      },
      "execution_count": null,
      "outputs": [
        {
          "output_type": "stream",
          "name": "stdout",
          "text": [
            "Downloading data from https://www.cs.toronto.edu/~kriz/cifar-10-python.tar.gz\n",
            "170500096/170498071 [==============================] - 4s 0us/step\n",
            "170508288/170498071 [==============================] - 4s 0us/step\n"
          ]
        }
      ]
    },
    {
      "cell_type": "code",
      "source": [
        "# data preprocessing\n",
        "mean = np.mean(x_train,axis=(0,1,2,3))\n",
        "std = np.std(x_train, axis=(0, 1, 2, 3))\n",
        "x_train = (x_train-mean)/(std+1e-7)\n",
        "x_test = (x_test-mean)/(std+1e-7)\n",
        "num_classes = 10\n",
        "y_train = tensorflow.keras.utils.to_categorical(y_train, num_classes)\n",
        "y_test = tensorflow.keras.utils.to_categorical(y_test, num_classes)"
      ],
      "metadata": {
        "id": "VMw__-75kS0F"
      },
      "execution_count": null,
      "outputs": []
    },
    {
      "cell_type": "markdown",
      "source": [
        "# AlexNet Dropout 0.5"
      ],
      "metadata": {
        "id": "Uurp8Lfflv_k"
      }
    },
    {
      "cell_type": "code",
      "source": [
        "def alexnet(img_input,classes=10):\n",
        "  xnet = Conv2D(96,(11,11),strides=(4,4),padding='same',activation='relu',kernel_initializer='uniform')(img_input)\n",
        "  xnet = MaxPooling2D(pool_size=(3,3),strides=(2,2),padding='same')(xnet)\n",
        "  xnet = Conv2D(256,(5,5),strides=(1,1),padding='same',activation='relu',kernel_initializer='uniform')(xnet)\n",
        "  xnet = MaxPooling2D(pool_size=(3,3),strides=(2,2),padding='same')(xnet)\n",
        "  xnet = Conv2D(384,(3,3),strides=(1,1),padding='same',activation='relu',kernel_initializer='uniform')(xnet)\n",
        "  xnet = Conv2D(384,(3,3),strides=(1,1),padding='same',activation='relu',kernel_initializer='uniform')(xnet)\n",
        "  xnet = Conv2D(256,(3,3),strides=(1,1),padding='same',activation='relu',kernel_initializer='uniform')(xnet)\n",
        "  xnet = MaxPooling2D(pool_size=(3,3),strides=(2,2),padding='same')(xnet)\n",
        "  xnet = Flatten()(xnet)\n",
        "  xnet = Dense(4096,activation='relu')(xnet)\n",
        "  xnet = Dropout(0.5)(xnet)\n",
        "  xnet = Dense(4096,activation='relu')(xnet)\n",
        "  xnet = Dropout(0.5)(xnet)\n",
        "  out_model = Dense(classes, activation='softmax')(xnet)\n",
        "  return out_model"
      ],
      "metadata": {
        "id": "fpsRsTNQkXbV"
      },
      "execution_count": null,
      "outputs": []
    },
    {
      "cell_type": "code",
      "source": [
        "# show network structure\n",
        "img_input=Input(shape=(32,32,3))\n",
        "output = alexnet(img_input)\n",
        "model1=Model(img_input,output)\n",
        "model1.summary()"
      ],
      "metadata": {
        "colab": {
          "base_uri": "https://localhost:8080/"
        },
        "id": "E19c6CK_m86a",
        "outputId": "8cfc9db8-672c-421e-d2f2-255a8d1b70a9"
      },
      "execution_count": null,
      "outputs": [
        {
          "output_type": "stream",
          "name": "stdout",
          "text": [
            "Model: \"model\"\n",
            "_________________________________________________________________\n",
            " Layer (type)                Output Shape              Param #   \n",
            "=================================================================\n",
            " input_1 (InputLayer)        [(None, 32, 32, 3)]       0         \n",
            "                                                                 \n",
            " conv2d (Conv2D)             (None, 8, 8, 96)          34944     \n",
            "                                                                 \n",
            " max_pooling2d (MaxPooling2D  (None, 4, 4, 96)         0         \n",
            " )                                                               \n",
            "                                                                 \n",
            " conv2d_1 (Conv2D)           (None, 4, 4, 256)         614656    \n",
            "                                                                 \n",
            " max_pooling2d_1 (MaxPooling  (None, 2, 2, 256)        0         \n",
            " 2D)                                                             \n",
            "                                                                 \n",
            " conv2d_2 (Conv2D)           (None, 2, 2, 384)         885120    \n",
            "                                                                 \n",
            " conv2d_3 (Conv2D)           (None, 2, 2, 384)         1327488   \n",
            "                                                                 \n",
            " conv2d_4 (Conv2D)           (None, 2, 2, 256)         884992    \n",
            "                                                                 \n",
            " max_pooling2d_2 (MaxPooling  (None, 1, 1, 256)        0         \n",
            " 2D)                                                             \n",
            "                                                                 \n",
            " flatten (Flatten)           (None, 256)               0         \n",
            "                                                                 \n",
            " dense (Dense)               (None, 4096)              1052672   \n",
            "                                                                 \n",
            " dropout (Dropout)           (None, 4096)              0         \n",
            "                                                                 \n",
            " dense_1 (Dense)             (None, 4096)              16781312  \n",
            "                                                                 \n",
            " dropout_1 (Dropout)         (None, 4096)              0         \n",
            "                                                                 \n",
            " dense_2 (Dense)             (None, 10)                40970     \n",
            "                                                                 \n",
            "=================================================================\n",
            "Total params: 21,622,154\n",
            "Trainable params: 21,622,154\n",
            "Non-trainable params: 0\n",
            "_________________________________________________________________\n"
          ]
        }
      ]
    },
    {
      "cell_type": "code",
      "source": [
        "# fitting the model\n",
        "sgd = tensorflow.keras.optimizers.SGD(learning_rate=.01, momentum=0.9, nesterov=True) \n",
        "model1.compile(loss='categorical_crossentropy', optimizer=sgd, metrics=['accuracy'])\n",
        "filepath=\"weights.best.hdf5\"\n",
        "checkpoint = ModelCheckpoint(filepath, monitor='val_acc', verbose=1, save_best_only=True, mode='max')\n",
        "callbacks_list = [checkpoint]\n",
        "epochs = 120\n",
        "batch_size = 128\n",
        "iterations = int(x_train.shape[0]/batch_size)\n",
        "datagen = ImageDataGenerator(horizontal_flip=True, width_shift_range=0.115,height_shift_range=0.115, fill_mode='constant',cval=0.)\n",
        "datagen.fit(x_train)\n",
        "model1.fit_generator(datagen.flow(x_train, y_train, batch_size=batch_size), steps_per_epoch=iterations, epochs=epochs, callbacks=callbacks_list, validation_data=(x_test, y_test))"
      ],
      "metadata": {
        "id": "lvav5jRonBR9"
      },
      "execution_count": null,
      "outputs": []
    },
    {
      "cell_type": "code",
      "source": [
        "# Generate accuracy plot\n",
        "f, ax = plt.subplots()\n",
        "ax.plot([None] + model1.history.history['accuracy'], 'o-')\n",
        "ax.plot([None] + model1.history.history['val_accuracy'], 'x-')\n",
        "ax.legend(['Train acc', 'Validation acc'], loc = 0)\n",
        "ax.set_title('Training/Validation acc per Epoch')\n",
        "ax.set_xlabel('Epoch')\n",
        "ax.set_ylabel('acc')"
      ],
      "metadata": {
        "id": "2FzVtIaGnQXo"
      },
      "execution_count": null,
      "outputs": []
    },
    {
      "cell_type": "code",
      "source": [
        "# Generate loss plot\n",
        "f, ax = plt.subplots()\n",
        "ax.plot([None] + model1.history.history['loss'], 'o-')\n",
        "ax.plot([None] + model1.history.history['val_loss'], 'x-')\n",
        "ax.legend(['Train loss', 'Validation loss'], loc = 0)\n",
        "ax.set_title('Training/Validation loss per Epoch')\n",
        "ax.set_xlabel('Epoch')\n",
        "ax.set_ylabel('loss')"
      ],
      "metadata": {
        "id": "eso2-TS3nTkZ"
      },
      "execution_count": null,
      "outputs": []
    },
    {
      "cell_type": "markdown",
      "source": [
        "# AlexNet Dropout 0.25"
      ],
      "metadata": {
        "id": "mVyRaSnIl0F1"
      }
    },
    {
      "cell_type": "code",
      "source": [
        "def alexnetV1(img_input,classes=10):\n",
        "  xnet = Conv2D(96,(11,11),strides=(4,4),padding='same',activation='relu',kernel_initializer='uniform')(img_input)\n",
        "  xnet = MaxPooling2D(pool_size=(3,3),strides=(2,2),padding='same')(xnet)\n",
        "  xnet = Conv2D(256,(5,5),strides=(1,1),padding='same',activation='relu',kernel_initializer='uniform')(xnet)\n",
        "  xnet = MaxPooling2D(pool_size=(3,3),strides=(2,2),padding='same')(xnet)\n",
        "  xnet = Conv2D(384,(3,3),strides=(1,1),padding='same',activation='relu',kernel_initializer='uniform')(xnet)\n",
        "  xnet = Conv2D(384,(3,3),strides=(1,1),padding='same',activation='relu',kernel_initializer='uniform')(xnet)\n",
        "  xnet = Conv2D(256,(3,3),strides=(1,1),padding='same',activation='relu',kernel_initializer='uniform')(xnet)\n",
        "  xnet = MaxPooling2D(pool_size=(3,3),strides=(2,2),padding='same')(xnet)\n",
        "  xnet = Flatten()(xnet)\n",
        "  xnet = Dense(4096,activation='relu')(xnet)\n",
        "  xnet = Dropout(0.25)(xnet)\n",
        "  xnet = Dense(4096,activation='relu')(xnet)\n",
        "  xnet = Dropout(0.25)(xnet)\n",
        "  out_model = Dense(classes, activation='softmax')(xnet)\n",
        "  return out_model"
      ],
      "metadata": {
        "id": "hwhilJqvkZMb"
      },
      "execution_count": null,
      "outputs": []
    },
    {
      "cell_type": "code",
      "source": [
        "# show network structure\n",
        "img_input=Input(shape=(32,32,3))\n",
        "output = alexnetV1(img_input)\n",
        "model2=Model(img_input,output)\n",
        "model2.summary()"
      ],
      "metadata": {
        "colab": {
          "base_uri": "https://localhost:8080/"
        },
        "id": "Xte-LAL3neme",
        "outputId": "16ec661f-e7c3-4ecc-d210-9b2a596d5c13"
      },
      "execution_count": null,
      "outputs": [
        {
          "output_type": "stream",
          "name": "stdout",
          "text": [
            "Model: \"model_1\"\n",
            "_________________________________________________________________\n",
            " Layer (type)                Output Shape              Param #   \n",
            "=================================================================\n",
            " input_2 (InputLayer)        [(None, 32, 32, 3)]       0         \n",
            "                                                                 \n",
            " conv2d_5 (Conv2D)           (None, 8, 8, 96)          34944     \n",
            "                                                                 \n",
            " max_pooling2d_3 (MaxPooling  (None, 4, 4, 96)         0         \n",
            " 2D)                                                             \n",
            "                                                                 \n",
            " conv2d_6 (Conv2D)           (None, 4, 4, 256)         614656    \n",
            "                                                                 \n",
            " max_pooling2d_4 (MaxPooling  (None, 2, 2, 256)        0         \n",
            " 2D)                                                             \n",
            "                                                                 \n",
            " conv2d_7 (Conv2D)           (None, 2, 2, 384)         885120    \n",
            "                                                                 \n",
            " conv2d_8 (Conv2D)           (None, 2, 2, 384)         1327488   \n",
            "                                                                 \n",
            " conv2d_9 (Conv2D)           (None, 2, 2, 256)         884992    \n",
            "                                                                 \n",
            " max_pooling2d_5 (MaxPooling  (None, 1, 1, 256)        0         \n",
            " 2D)                                                             \n",
            "                                                                 \n",
            " flatten_1 (Flatten)         (None, 256)               0         \n",
            "                                                                 \n",
            " dense_3 (Dense)             (None, 4096)              1052672   \n",
            "                                                                 \n",
            " dropout_2 (Dropout)         (None, 4096)              0         \n",
            "                                                                 \n",
            " dense_4 (Dense)             (None, 4096)              16781312  \n",
            "                                                                 \n",
            " dropout_3 (Dropout)         (None, 4096)              0         \n",
            "                                                                 \n",
            " dense_5 (Dense)             (None, 10)                40970     \n",
            "                                                                 \n",
            "=================================================================\n",
            "Total params: 21,622,154\n",
            "Trainable params: 21,622,154\n",
            "Non-trainable params: 0\n",
            "_________________________________________________________________\n"
          ]
        }
      ]
    },
    {
      "cell_type": "code",
      "source": [
        "# fitting the model\n",
        "sgd = tensorflow.keras.optimizers.SGD(learning_rate=.01, momentum=0.9, nesterov=True) \n",
        "model2.compile(loss='categorical_crossentropy', optimizer=sgd, metrics=['accuracy'])\n",
        "filepath=\"weights.best.hdf5\"\n",
        "checkpoint = ModelCheckpoint(filepath, monitor='val_acc', verbose=1, save_best_only=True, mode='max')\n",
        "callbacks_list = [checkpoint]\n",
        "epochs = 120\n",
        "batch_size = 128\n",
        "iterations = int(x_train.shape[0]/batch_size)\n",
        "datagen = ImageDataGenerator(horizontal_flip=True, width_shift_range=0.115,height_shift_range=0.115, fill_mode='constant',cval=0.)\n",
        "datagen.fit(x_train)\n",
        "model2.fit_generator(datagen.flow(x_train, y_train, batch_size=batch_size), steps_per_epoch=iterations, epochs=epochs, callbacks=callbacks_list, validation_data=(x_test, y_test))"
      ],
      "metadata": {
        "id": "TPh65Qd3niZ6"
      },
      "execution_count": null,
      "outputs": []
    },
    {
      "cell_type": "code",
      "source": [
        "# Generate accuracy plot\n",
        "f, ax = plt.subplots()\n",
        "ax.plot([None] + model2.history.history['accuracy'], 'o-')\n",
        "ax.plot([None] + model2.history.history['val_accuracy'], 'x-')\n",
        "ax.legend(['Train acc', 'Validation acc'], loc = 0)\n",
        "ax.set_title('Training/Validation acc per Epoch')\n",
        "ax.set_xlabel('Epoch')\n",
        "ax.set_ylabel('acc')"
      ],
      "metadata": {
        "id": "uawKFZzvnjiw"
      },
      "execution_count": null,
      "outputs": []
    },
    {
      "cell_type": "code",
      "source": [
        "# Generate loss plot\n",
        "f, ax = plt.subplots()\n",
        "ax.plot([None] + model2.history.history['loss'], 'o-')\n",
        "ax.plot([None] + model2.history.history['val_loss'], 'x-')\n",
        "ax.legend(['Train loss', 'Validation loss'], loc = 0)\n",
        "ax.set_title('Training/Validation loss per Epoch')\n",
        "ax.set_xlabel('Epoch')\n",
        "ax.set_ylabel('loss')"
      ],
      "metadata": {
        "id": "5mP3bqQcnlp9"
      },
      "execution_count": null,
      "outputs": []
    },
    {
      "cell_type": "markdown",
      "source": [
        "# AlexNet Dropout 0.9"
      ],
      "metadata": {
        "id": "TXHZMDgjl4wg"
      }
    },
    {
      "cell_type": "code",
      "source": [
        "# AlexNet Architecture\n",
        "def alexnetV2(img_input,classes=10):\n",
        "  xnet = Conv2D(96,(11,11),strides=(4,4),padding='same',activation='relu',kernel_initializer='uniform')(img_input)\n",
        "  xnet = MaxPooling2D(pool_size=(3,3),strides=(2,2),padding='same')(xnet)\n",
        "  xnet = Conv2D(256,(5,5),strides=(1,1),padding='same',activation='relu',kernel_initializer='uniform')(xnet)\n",
        "  xnet = MaxPooling2D(pool_size=(3,3),strides=(2,2),padding='same')(xnet)\n",
        "  xnet = Conv2D(384,(3,3),strides=(1,1),padding='same',activation='relu',kernel_initializer='uniform')(xnet)\n",
        "  xnet = Conv2D(384,(3,3),strides=(1,1),padding='same',activation='relu',kernel_initializer='uniform')(xnet)\n",
        "  xnet = Conv2D(256,(3,3),strides=(1,1),padding='same',activation='relu',kernel_initializer='uniform')(xnet)\n",
        "  xnet = MaxPooling2D(pool_size=(3,3),strides=(2,2),padding='same')(xnet)\n",
        "  xnet = Flatten()(xnet)\n",
        "  xnet = Dense(4096,activation='relu')(xnet)\n",
        "  xnet = Dropout(0.9)(xnet)\n",
        "  xnet = Dense(4096,activation='relu')(xnet)\n",
        "  xnet = Dropout(0.9)(xnet)\n",
        "  out_model = Dense(classes, activation='softmax')(xnet)\n",
        "  return out_model"
      ],
      "metadata": {
        "id": "Mb_giTMYk8b1"
      },
      "execution_count": null,
      "outputs": []
    },
    {
      "cell_type": "code",
      "source": [
        "# show network structure\n",
        "img_input=Input(shape=(32,32,3))\n",
        "output = alexnetV2(img_input)\n",
        "model3=Model(img_input,output)\n",
        "model3.summary()"
      ],
      "metadata": {
        "colab": {
          "base_uri": "https://localhost:8080/"
        },
        "id": "gMwOmJqLlk2h",
        "outputId": "4d5069d3-269e-4e42-e82a-d3707fb25566"
      },
      "execution_count": null,
      "outputs": [
        {
          "output_type": "stream",
          "name": "stdout",
          "text": [
            "Model: \"model_2\"\n",
            "_________________________________________________________________\n",
            " Layer (type)                Output Shape              Param #   \n",
            "=================================================================\n",
            " input_3 (InputLayer)        [(None, 32, 32, 3)]       0         \n",
            "                                                                 \n",
            " conv2d_10 (Conv2D)          (None, 8, 8, 96)          34944     \n",
            "                                                                 \n",
            " max_pooling2d_6 (MaxPooling  (None, 4, 4, 96)         0         \n",
            " 2D)                                                             \n",
            "                                                                 \n",
            " conv2d_11 (Conv2D)          (None, 4, 4, 256)         614656    \n",
            "                                                                 \n",
            " max_pooling2d_7 (MaxPooling  (None, 2, 2, 256)        0         \n",
            " 2D)                                                             \n",
            "                                                                 \n",
            " conv2d_12 (Conv2D)          (None, 2, 2, 384)         885120    \n",
            "                                                                 \n",
            " conv2d_13 (Conv2D)          (None, 2, 2, 384)         1327488   \n",
            "                                                                 \n",
            " conv2d_14 (Conv2D)          (None, 2, 2, 256)         884992    \n",
            "                                                                 \n",
            " max_pooling2d_8 (MaxPooling  (None, 1, 1, 256)        0         \n",
            " 2D)                                                             \n",
            "                                                                 \n",
            " flatten_2 (Flatten)         (None, 256)               0         \n",
            "                                                                 \n",
            " dense_6 (Dense)             (None, 4096)              1052672   \n",
            "                                                                 \n",
            " dropout_4 (Dropout)         (None, 4096)              0         \n",
            "                                                                 \n",
            " dense_7 (Dense)             (None, 4096)              16781312  \n",
            "                                                                 \n",
            " dropout_5 (Dropout)         (None, 4096)              0         \n",
            "                                                                 \n",
            " dense_8 (Dense)             (None, 10)                40970     \n",
            "                                                                 \n",
            "=================================================================\n",
            "Total params: 21,622,154\n",
            "Trainable params: 21,622,154\n",
            "Non-trainable params: 0\n",
            "_________________________________________________________________\n"
          ]
        }
      ]
    },
    {
      "cell_type": "code",
      "source": [
        "# Fitting the model\n",
        "sgd = tensorflow.keras.optimizers.SGD(learning_rate=.01, momentum=0.9, nesterov=True) \n",
        "model3.compile(loss='categorical_crossentropy', optimizer=sgd, metrics=['accuracy'])\n",
        "filepath=\"weights.best.hdf5\"\n",
        "checkpoint = ModelCheckpoint(filepath, monitor='val_acc', verbose=1, save_best_only=True, mode='max')\n",
        "callbacks_list = [checkpoint]\n",
        "epochs = 120\n",
        "batch_size = 128\n",
        "iterations = int(x_train.shape[0]/batch_size)\n",
        "datagen = ImageDataGenerator(horizontal_flip=True, width_shift_range=0.115,height_shift_range=0.115, fill_mode='constant',cval=0.)\n",
        "datagen.fit(x_train)\n",
        "model3.fit_generator(datagen.flow(x_train, y_train, batch_size=batch_size), steps_per_epoch=iterations, epochs=epochs, callbacks=callbacks_list, validation_data=(x_test, y_test))"
      ],
      "metadata": {
        "id": "bGiMWSlBnskX"
      },
      "execution_count": null,
      "outputs": []
    },
    {
      "cell_type": "code",
      "source": [
        "# Generate accuracy plot\n",
        "f, ax = plt.subplots()\n",
        "ax.plot([None] + model3.history.history['accuracy'], 'o-')\n",
        "ax.plot([None] + model3.history.history['val_accuracy'], 'x-')\n",
        "ax.legend(['Train acc', 'Validation acc'], loc = 0)\n",
        "ax.set_title('Training/Validation acc per Epoch')\n",
        "ax.set_xlabel('Epoch')\n",
        "ax.set_ylabel('acc')"
      ],
      "metadata": {
        "id": "7WV_gtiRnvBb"
      },
      "execution_count": null,
      "outputs": []
    },
    {
      "cell_type": "code",
      "source": [
        "# Generate loss plot\n",
        "f, ax = plt.subplots()\n",
        "ax.plot([None] + model3.history.history['loss'], 'o-')\n",
        "ax.plot([None] + model3.history.history['val_loss'], 'x-')\n",
        "ax.legend(['Train loss', 'Validation loss'], loc = 0)\n",
        "ax.set_title('Training/Validation loss per Epoch')\n",
        "ax.set_xlabel('Epoch')\n",
        "ax.set_ylabel('loss')"
      ],
      "metadata": {
        "id": "PNrXNItLnw7j"
      },
      "execution_count": null,
      "outputs": []
    }
  ]
}